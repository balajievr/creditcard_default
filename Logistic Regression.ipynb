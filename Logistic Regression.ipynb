{
 "cells": [
  {
   "cell_type": "markdown",
   "metadata": {},
   "source": [
    "### Import Libraries"
   ]
  },
  {
   "cell_type": "code",
   "execution_count": 75,
   "metadata": {},
   "outputs": [],
   "source": [
    "import pandas as pd\n",
    "import numpy as np\n",
    "import matplotlib.pyplot as plt\n",
    "import seaborn as sns\n",
    "from sklearn.preprocessing import OneHotEncoder\n",
    "from statsmodels.stats.outliers_influence import variance_inflation_factor\n",
    "from sklearn.linear_model import LogisticRegression\n",
    "from sklearn.model_selection import train_test_split\n",
    "from sklearn import metrics"
   ]
  },
  {
   "cell_type": "code",
   "execution_count": 4,
   "metadata": {},
   "outputs": [],
   "source": [
    "df = pd.read_excel('input_model.xlsx')"
   ]
  },
  {
   "cell_type": "code",
   "execution_count": 5,
   "metadata": {},
   "outputs": [
    {
     "data": {
      "text/html": [
       "<div>\n",
       "<style scoped>\n",
       "    .dataframe tbody tr th:only-of-type {\n",
       "        vertical-align: middle;\n",
       "    }\n",
       "\n",
       "    .dataframe tbody tr th {\n",
       "        vertical-align: top;\n",
       "    }\n",
       "\n",
       "    .dataframe thead th {\n",
       "        text-align: right;\n",
       "    }\n",
       "</style>\n",
       "<table border=\"1\" class=\"dataframe\">\n",
       "  <thead>\n",
       "    <tr style=\"text-align: right;\">\n",
       "      <th></th>\n",
       "      <th>log_limit_bal</th>\n",
       "      <th>log_age</th>\n",
       "      <th>sex</th>\n",
       "      <th>marriage</th>\n",
       "      <th>education</th>\n",
       "      <th>sep_status</th>\n",
       "      <th>aug_status</th>\n",
       "      <th>jul_status</th>\n",
       "      <th>jun_status</th>\n",
       "      <th>may_status</th>\n",
       "      <th>apr_status</th>\n",
       "      <th>default</th>\n",
       "    </tr>\n",
       "  </thead>\n",
       "  <tbody>\n",
       "    <tr>\n",
       "      <th>0</th>\n",
       "      <td>9.903488</td>\n",
       "      <td>3.178054</td>\n",
       "      <td>2</td>\n",
       "      <td>1</td>\n",
       "      <td>2</td>\n",
       "      <td>2</td>\n",
       "      <td>2</td>\n",
       "      <td>0</td>\n",
       "      <td>0</td>\n",
       "      <td>0</td>\n",
       "      <td>0</td>\n",
       "      <td>1</td>\n",
       "    </tr>\n",
       "    <tr>\n",
       "      <th>1</th>\n",
       "      <td>11.695247</td>\n",
       "      <td>3.258097</td>\n",
       "      <td>2</td>\n",
       "      <td>2</td>\n",
       "      <td>2</td>\n",
       "      <td>0</td>\n",
       "      <td>2</td>\n",
       "      <td>0</td>\n",
       "      <td>0</td>\n",
       "      <td>0</td>\n",
       "      <td>2</td>\n",
       "      <td>1</td>\n",
       "    </tr>\n",
       "    <tr>\n",
       "      <th>2</th>\n",
       "      <td>11.407565</td>\n",
       "      <td>3.526361</td>\n",
       "      <td>2</td>\n",
       "      <td>2</td>\n",
       "      <td>2</td>\n",
       "      <td>0</td>\n",
       "      <td>0</td>\n",
       "      <td>0</td>\n",
       "      <td>0</td>\n",
       "      <td>0</td>\n",
       "      <td>0</td>\n",
       "      <td>0</td>\n",
       "    </tr>\n",
       "    <tr>\n",
       "      <th>3</th>\n",
       "      <td>10.819778</td>\n",
       "      <td>3.610918</td>\n",
       "      <td>2</td>\n",
       "      <td>1</td>\n",
       "      <td>2</td>\n",
       "      <td>0</td>\n",
       "      <td>0</td>\n",
       "      <td>0</td>\n",
       "      <td>0</td>\n",
       "      <td>0</td>\n",
       "      <td>0</td>\n",
       "      <td>0</td>\n",
       "    </tr>\n",
       "    <tr>\n",
       "      <th>4</th>\n",
       "      <td>10.819778</td>\n",
       "      <td>4.043051</td>\n",
       "      <td>1</td>\n",
       "      <td>1</td>\n",
       "      <td>2</td>\n",
       "      <td>0</td>\n",
       "      <td>0</td>\n",
       "      <td>0</td>\n",
       "      <td>0</td>\n",
       "      <td>0</td>\n",
       "      <td>0</td>\n",
       "      <td>0</td>\n",
       "    </tr>\n",
       "  </tbody>\n",
       "</table>\n",
       "</div>"
      ],
      "text/plain": [
       "   log_limit_bal   log_age  sex  marriage  education  sep_status  aug_status  \\\n",
       "0       9.903488  3.178054    2         1          2           2           2   \n",
       "1      11.695247  3.258097    2         2          2           0           2   \n",
       "2      11.407565  3.526361    2         2          2           0           0   \n",
       "3      10.819778  3.610918    2         1          2           0           0   \n",
       "4      10.819778  4.043051    1         1          2           0           0   \n",
       "\n",
       "   jul_status  jun_status  may_status  apr_status  default  \n",
       "0           0           0           0           0        1  \n",
       "1           0           0           0           2        1  \n",
       "2           0           0           0           0        0  \n",
       "3           0           0           0           0        0  \n",
       "4           0           0           0           0        0  "
      ]
     },
     "execution_count": 5,
     "metadata": {},
     "output_type": "execute_result"
    }
   ],
   "source": [
    "df.head()"
   ]
  },
  {
   "cell_type": "code",
   "execution_count": 6,
   "metadata": {},
   "outputs": [],
   "source": [
    "convert_to_object = ['sex','marriage','education',\n",
    "                    'sep_status','aug_status','jul_status','jun_status','may_status','apr_status'\n",
    "                    ]\n",
    "for c_o in convert_to_object:\n",
    "    df[c_o] = df[c_o].astype(str)"
   ]
  },
  {
   "cell_type": "code",
   "execution_count": 7,
   "metadata": {},
   "outputs": [
    {
     "name": "stdout",
     "output_type": "stream",
     "text": [
      "<class 'pandas.core.frame.DataFrame'>\n",
      "RangeIndex: 29998 entries, 0 to 29997\n",
      "Data columns (total 12 columns):\n",
      "log_limit_bal    29998 non-null float64\n",
      "log_age          29998 non-null float64\n",
      "sex              29998 non-null object\n",
      "marriage         29998 non-null object\n",
      "education        29998 non-null object\n",
      "sep_status       29998 non-null object\n",
      "aug_status       29998 non-null object\n",
      "jul_status       29998 non-null object\n",
      "jun_status       29998 non-null object\n",
      "may_status       29998 non-null object\n",
      "apr_status       29998 non-null object\n",
      "default          29998 non-null int64\n",
      "dtypes: float64(2), int64(1), object(9)\n",
      "memory usage: 2.7+ MB\n"
     ]
    }
   ],
   "source": [
    "df.info()"
   ]
  },
  {
   "cell_type": "markdown",
   "metadata": {},
   "source": [
    "#### Converting the catgorical variables to dummy varibales"
   ]
  },
  {
   "cell_type": "code",
   "execution_count": 8,
   "metadata": {},
   "outputs": [],
   "source": [
    "df = pd.get_dummies(df,prefix=['sex','marriage','education',\n",
    "                               'sep_status','aug_status','jul_status','jun_status','may_status','apr_status'\n",
    "                              ],\n",
    "                    columns=['sex','marriage','education','sep_status','aug_status','jul_status','jun_status',\n",
    "                             'may_status','apr_status'\n",
    "                            ]\n",
    "                   )"
   ]
  },
  {
   "cell_type": "code",
   "execution_count": 9,
   "metadata": {},
   "outputs": [
    {
     "data": {
      "text/html": [
       "<div>\n",
       "<style scoped>\n",
       "    .dataframe tbody tr th:only-of-type {\n",
       "        vertical-align: middle;\n",
       "    }\n",
       "\n",
       "    .dataframe tbody tr th {\n",
       "        vertical-align: top;\n",
       "    }\n",
       "\n",
       "    .dataframe thead th {\n",
       "        text-align: right;\n",
       "    }\n",
       "</style>\n",
       "<table border=\"1\" class=\"dataframe\">\n",
       "  <thead>\n",
       "    <tr style=\"text-align: right;\">\n",
       "      <th></th>\n",
       "      <th>log_limit_bal</th>\n",
       "      <th>log_age</th>\n",
       "      <th>sex_1</th>\n",
       "      <th>sex_2</th>\n",
       "      <th>marriage_1</th>\n",
       "      <th>marriage_2</th>\n",
       "      <th>marriage_3</th>\n",
       "      <th>education_1</th>\n",
       "      <th>education_2</th>\n",
       "      <th>education_3</th>\n",
       "      <th>...</th>\n",
       "      <th>may_status_7</th>\n",
       "      <th>may_status_8</th>\n",
       "      <th>apr_status_0</th>\n",
       "      <th>apr_status_2</th>\n",
       "      <th>apr_status_3</th>\n",
       "      <th>apr_status_4</th>\n",
       "      <th>apr_status_5</th>\n",
       "      <th>apr_status_6</th>\n",
       "      <th>apr_status_7</th>\n",
       "      <th>apr_status_8</th>\n",
       "    </tr>\n",
       "  </thead>\n",
       "  <tbody>\n",
       "    <tr>\n",
       "      <th>0</th>\n",
       "      <td>9.903488</td>\n",
       "      <td>3.178054</td>\n",
       "      <td>0</td>\n",
       "      <td>1</td>\n",
       "      <td>1</td>\n",
       "      <td>0</td>\n",
       "      <td>0</td>\n",
       "      <td>0</td>\n",
       "      <td>1</td>\n",
       "      <td>0</td>\n",
       "      <td>...</td>\n",
       "      <td>0</td>\n",
       "      <td>0</td>\n",
       "      <td>1</td>\n",
       "      <td>0</td>\n",
       "      <td>0</td>\n",
       "      <td>0</td>\n",
       "      <td>0</td>\n",
       "      <td>0</td>\n",
       "      <td>0</td>\n",
       "      <td>0</td>\n",
       "    </tr>\n",
       "    <tr>\n",
       "      <th>1</th>\n",
       "      <td>11.695247</td>\n",
       "      <td>3.258097</td>\n",
       "      <td>0</td>\n",
       "      <td>1</td>\n",
       "      <td>0</td>\n",
       "      <td>1</td>\n",
       "      <td>0</td>\n",
       "      <td>0</td>\n",
       "      <td>1</td>\n",
       "      <td>0</td>\n",
       "      <td>...</td>\n",
       "      <td>0</td>\n",
       "      <td>0</td>\n",
       "      <td>0</td>\n",
       "      <td>1</td>\n",
       "      <td>0</td>\n",
       "      <td>0</td>\n",
       "      <td>0</td>\n",
       "      <td>0</td>\n",
       "      <td>0</td>\n",
       "      <td>0</td>\n",
       "    </tr>\n",
       "    <tr>\n",
       "      <th>2</th>\n",
       "      <td>11.407565</td>\n",
       "      <td>3.526361</td>\n",
       "      <td>0</td>\n",
       "      <td>1</td>\n",
       "      <td>0</td>\n",
       "      <td>1</td>\n",
       "      <td>0</td>\n",
       "      <td>0</td>\n",
       "      <td>1</td>\n",
       "      <td>0</td>\n",
       "      <td>...</td>\n",
       "      <td>0</td>\n",
       "      <td>0</td>\n",
       "      <td>1</td>\n",
       "      <td>0</td>\n",
       "      <td>0</td>\n",
       "      <td>0</td>\n",
       "      <td>0</td>\n",
       "      <td>0</td>\n",
       "      <td>0</td>\n",
       "      <td>0</td>\n",
       "    </tr>\n",
       "    <tr>\n",
       "      <th>3</th>\n",
       "      <td>10.819778</td>\n",
       "      <td>3.610918</td>\n",
       "      <td>0</td>\n",
       "      <td>1</td>\n",
       "      <td>1</td>\n",
       "      <td>0</td>\n",
       "      <td>0</td>\n",
       "      <td>0</td>\n",
       "      <td>1</td>\n",
       "      <td>0</td>\n",
       "      <td>...</td>\n",
       "      <td>0</td>\n",
       "      <td>0</td>\n",
       "      <td>1</td>\n",
       "      <td>0</td>\n",
       "      <td>0</td>\n",
       "      <td>0</td>\n",
       "      <td>0</td>\n",
       "      <td>0</td>\n",
       "      <td>0</td>\n",
       "      <td>0</td>\n",
       "    </tr>\n",
       "    <tr>\n",
       "      <th>4</th>\n",
       "      <td>10.819778</td>\n",
       "      <td>4.043051</td>\n",
       "      <td>1</td>\n",
       "      <td>0</td>\n",
       "      <td>1</td>\n",
       "      <td>0</td>\n",
       "      <td>0</td>\n",
       "      <td>0</td>\n",
       "      <td>1</td>\n",
       "      <td>0</td>\n",
       "      <td>...</td>\n",
       "      <td>0</td>\n",
       "      <td>0</td>\n",
       "      <td>1</td>\n",
       "      <td>0</td>\n",
       "      <td>0</td>\n",
       "      <td>0</td>\n",
       "      <td>0</td>\n",
       "      <td>0</td>\n",
       "      <td>0</td>\n",
       "      <td>0</td>\n",
       "    </tr>\n",
       "  </tbody>\n",
       "</table>\n",
       "<p>5 rows × 63 columns</p>\n",
       "</div>"
      ],
      "text/plain": [
       "   log_limit_bal   log_age  sex_1  sex_2  marriage_1  marriage_2  marriage_3  \\\n",
       "0       9.903488  3.178054      0      1           1           0           0   \n",
       "1      11.695247  3.258097      0      1           0           1           0   \n",
       "2      11.407565  3.526361      0      1           0           1           0   \n",
       "3      10.819778  3.610918      0      1           1           0           0   \n",
       "4      10.819778  4.043051      1      0           1           0           0   \n",
       "\n",
       "   education_1  education_2  education_3  ...  may_status_7  may_status_8  \\\n",
       "0            0            1            0  ...             0             0   \n",
       "1            0            1            0  ...             0             0   \n",
       "2            0            1            0  ...             0             0   \n",
       "3            0            1            0  ...             0             0   \n",
       "4            0            1            0  ...             0             0   \n",
       "\n",
       "   apr_status_0  apr_status_2  apr_status_3  apr_status_4  apr_status_5  \\\n",
       "0             1             0             0             0             0   \n",
       "1             0             1             0             0             0   \n",
       "2             1             0             0             0             0   \n",
       "3             1             0             0             0             0   \n",
       "4             1             0             0             0             0   \n",
       "\n",
       "   apr_status_6  apr_status_7  apr_status_8  \n",
       "0             0             0             0  \n",
       "1             0             0             0  \n",
       "2             0             0             0  \n",
       "3             0             0             0  \n",
       "4             0             0             0  \n",
       "\n",
       "[5 rows x 63 columns]"
      ]
     },
     "execution_count": 9,
     "metadata": {},
     "output_type": "execute_result"
    }
   ],
   "source": [
    "x = df.drop(columns='default')\n",
    "x.head()"
   ]
  },
  {
   "cell_type": "markdown",
   "metadata": {},
   "source": [
    "#### Ensemble learning methods can perform feature importance and fit the model with best features.But Logistic regression works well if we feed the model with best features.As a first step,we will find the columns with less variance and remove those features.Less variance contributes less to the model"
   ]
  },
  {
   "cell_type": "code",
   "execution_count": 10,
   "metadata": {},
   "outputs": [],
   "source": [
    "from sklearn.feature_selection import VarianceThreshold\n",
    "var_thresh = VarianceThreshold(threshold=0.1)\n",
    "trans = var_thresh.fit(x)"
   ]
  },
  {
   "cell_type": "code",
   "execution_count": 11,
   "metadata": {},
   "outputs": [
    {
     "data": {
      "text/plain": [
       "array([ True, False,  True,  True,  True,  True, False,  True,  True,\n",
       "        True, False,  True,  True, False, False, False, False, False,\n",
       "       False, False,  True, False,  True, False, False, False, False,\n",
       "       False, False,  True, False,  True, False, False, False, False,\n",
       "       False, False,  True, False, False, False, False, False, False,\n",
       "       False, False, False, False, False, False, False, False, False,\n",
       "       False, False, False, False, False, False, False, False, False])"
      ]
     },
     "execution_count": 11,
     "metadata": {},
     "output_type": "execute_result"
    }
   ],
   "source": [
    "trans.get_support()"
   ]
  },
  {
   "cell_type": "code",
   "execution_count": 13,
   "metadata": {},
   "outputs": [
    {
     "name": "stdout",
     "output_type": "stream",
     "text": [
      "log_age\n",
      "marriage_3\n",
      "education_4\n",
      "sep_status_2\n",
      "sep_status_3\n",
      "sep_status_4\n",
      "sep_status_5\n",
      "sep_status_6\n",
      "sep_status_7\n",
      "sep_status_8\n",
      "aug_status_1\n",
      "aug_status_3\n",
      "aug_status_4\n",
      "aug_status_5\n",
      "aug_status_6\n",
      "aug_status_7\n",
      "aug_status_8\n",
      "jul_status_1\n",
      "jul_status_3\n",
      "jul_status_4\n",
      "jul_status_5\n",
      "jul_status_6\n",
      "jul_status_7\n",
      "jul_status_8\n",
      "jun_status_1\n",
      "jun_status_2\n",
      "jun_status_3\n",
      "jun_status_4\n",
      "jun_status_5\n",
      "jun_status_6\n",
      "jun_status_7\n",
      "jun_status_8\n",
      "may_status_0\n",
      "may_status_2\n",
      "may_status_3\n",
      "may_status_4\n",
      "may_status_5\n",
      "may_status_6\n",
      "may_status_7\n",
      "may_status_8\n",
      "apr_status_0\n",
      "apr_status_2\n",
      "apr_status_3\n",
      "apr_status_4\n",
      "apr_status_5\n",
      "apr_status_6\n",
      "apr_status_7\n",
      "apr_status_8\n"
     ]
    }
   ],
   "source": [
    "concol = [column for column in x.columns \n",
    "          if column not in x.columns[trans.get_support()]]\n",
    "\n",
    "for features in concol:\n",
    "    print(features)\n"
   ]
  },
  {
   "cell_type": "code",
   "execution_count": 14,
   "metadata": {},
   "outputs": [],
   "source": [
    "new_x = x.drop(concol,axis=1)"
   ]
  },
  {
   "cell_type": "markdown",
   "metadata": {},
   "source": [
    "#### After performing the test,we removed the columns with less variance"
   ]
  },
  {
   "cell_type": "code",
   "execution_count": 15,
   "metadata": {},
   "outputs": [
    {
     "data": {
      "text/html": [
       "<div>\n",
       "<style scoped>\n",
       "    .dataframe tbody tr th:only-of-type {\n",
       "        vertical-align: middle;\n",
       "    }\n",
       "\n",
       "    .dataframe tbody tr th {\n",
       "        vertical-align: top;\n",
       "    }\n",
       "\n",
       "    .dataframe thead th {\n",
       "        text-align: right;\n",
       "    }\n",
       "</style>\n",
       "<table border=\"1\" class=\"dataframe\">\n",
       "  <thead>\n",
       "    <tr style=\"text-align: right;\">\n",
       "      <th></th>\n",
       "      <th>log_limit_bal</th>\n",
       "      <th>sex_1</th>\n",
       "      <th>sex_2</th>\n",
       "      <th>marriage_1</th>\n",
       "      <th>marriage_2</th>\n",
       "      <th>education_1</th>\n",
       "      <th>education_2</th>\n",
       "      <th>education_3</th>\n",
       "      <th>sep_status_0</th>\n",
       "      <th>sep_status_1</th>\n",
       "      <th>aug_status_0</th>\n",
       "      <th>aug_status_2</th>\n",
       "      <th>jul_status_0</th>\n",
       "      <th>jul_status_2</th>\n",
       "      <th>jun_status_0</th>\n",
       "    </tr>\n",
       "  </thead>\n",
       "  <tbody>\n",
       "    <tr>\n",
       "      <th>0</th>\n",
       "      <td>9.903488</td>\n",
       "      <td>0</td>\n",
       "      <td>1</td>\n",
       "      <td>1</td>\n",
       "      <td>0</td>\n",
       "      <td>0</td>\n",
       "      <td>1</td>\n",
       "      <td>0</td>\n",
       "      <td>0</td>\n",
       "      <td>0</td>\n",
       "      <td>0</td>\n",
       "      <td>1</td>\n",
       "      <td>1</td>\n",
       "      <td>0</td>\n",
       "      <td>1</td>\n",
       "    </tr>\n",
       "    <tr>\n",
       "      <th>1</th>\n",
       "      <td>11.695247</td>\n",
       "      <td>0</td>\n",
       "      <td>1</td>\n",
       "      <td>0</td>\n",
       "      <td>1</td>\n",
       "      <td>0</td>\n",
       "      <td>1</td>\n",
       "      <td>0</td>\n",
       "      <td>1</td>\n",
       "      <td>0</td>\n",
       "      <td>0</td>\n",
       "      <td>1</td>\n",
       "      <td>1</td>\n",
       "      <td>0</td>\n",
       "      <td>1</td>\n",
       "    </tr>\n",
       "    <tr>\n",
       "      <th>2</th>\n",
       "      <td>11.407565</td>\n",
       "      <td>0</td>\n",
       "      <td>1</td>\n",
       "      <td>0</td>\n",
       "      <td>1</td>\n",
       "      <td>0</td>\n",
       "      <td>1</td>\n",
       "      <td>0</td>\n",
       "      <td>1</td>\n",
       "      <td>0</td>\n",
       "      <td>1</td>\n",
       "      <td>0</td>\n",
       "      <td>1</td>\n",
       "      <td>0</td>\n",
       "      <td>1</td>\n",
       "    </tr>\n",
       "    <tr>\n",
       "      <th>3</th>\n",
       "      <td>10.819778</td>\n",
       "      <td>0</td>\n",
       "      <td>1</td>\n",
       "      <td>1</td>\n",
       "      <td>0</td>\n",
       "      <td>0</td>\n",
       "      <td>1</td>\n",
       "      <td>0</td>\n",
       "      <td>1</td>\n",
       "      <td>0</td>\n",
       "      <td>1</td>\n",
       "      <td>0</td>\n",
       "      <td>1</td>\n",
       "      <td>0</td>\n",
       "      <td>1</td>\n",
       "    </tr>\n",
       "    <tr>\n",
       "      <th>4</th>\n",
       "      <td>10.819778</td>\n",
       "      <td>1</td>\n",
       "      <td>0</td>\n",
       "      <td>1</td>\n",
       "      <td>0</td>\n",
       "      <td>0</td>\n",
       "      <td>1</td>\n",
       "      <td>0</td>\n",
       "      <td>1</td>\n",
       "      <td>0</td>\n",
       "      <td>1</td>\n",
       "      <td>0</td>\n",
       "      <td>1</td>\n",
       "      <td>0</td>\n",
       "      <td>1</td>\n",
       "    </tr>\n",
       "  </tbody>\n",
       "</table>\n",
       "</div>"
      ],
      "text/plain": [
       "   log_limit_bal  sex_1  sex_2  marriage_1  marriage_2  education_1  \\\n",
       "0       9.903488      0      1           1           0            0   \n",
       "1      11.695247      0      1           0           1            0   \n",
       "2      11.407565      0      1           0           1            0   \n",
       "3      10.819778      0      1           1           0            0   \n",
       "4      10.819778      1      0           1           0            0   \n",
       "\n",
       "   education_2  education_3  sep_status_0  sep_status_1  aug_status_0  \\\n",
       "0            1            0             0             0             0   \n",
       "1            1            0             1             0             0   \n",
       "2            1            0             1             0             1   \n",
       "3            1            0             1             0             1   \n",
       "4            1            0             1             0             1   \n",
       "\n",
       "   aug_status_2  jul_status_0  jul_status_2  jun_status_0  \n",
       "0             1             1             0             1  \n",
       "1             1             1             0             1  \n",
       "2             0             1             0             1  \n",
       "3             0             1             0             1  \n",
       "4             0             1             0             1  "
      ]
     },
     "execution_count": 15,
     "metadata": {},
     "output_type": "execute_result"
    }
   ],
   "source": [
    "new_x.head()"
   ]
  },
  {
   "cell_type": "code",
   "execution_count": 17,
   "metadata": {},
   "outputs": [
    {
     "data": {
      "text/plain": [
       "0    1\n",
       "1    1\n",
       "2    0\n",
       "3    0\n",
       "4    0\n",
       "Name: default, dtype: int64"
      ]
     },
     "execution_count": 17,
     "metadata": {},
     "output_type": "execute_result"
    }
   ],
   "source": [
    "y = df['default']\n",
    "y.head()"
   ]
  },
  {
   "cell_type": "markdown",
   "metadata": {},
   "source": [
    "#### Modeling"
   ]
  },
  {
   "cell_type": "code",
   "execution_count": 43,
   "metadata": {},
   "outputs": [],
   "source": [
    "x_train,x_test,y_train,y_test = train_test_split(new_x,y,test_size=0.2,random_state=42)"
   ]
  },
  {
   "cell_type": "code",
   "execution_count": 44,
   "metadata": {},
   "outputs": [
    {
     "name": "stderr",
     "output_type": "stream",
     "text": [
      "D:\\Program Files\\Anaconda3\\lib\\site-packages\\numpy\\core\\fromnumeric.py:2389: FutureWarning: Method .ptp is deprecated and will be removed in a future version. Use numpy.ptp instead.\n",
      "  return ptp(axis=axis, out=out, **kwargs)\n"
     ]
    }
   ],
   "source": [
    "import statsmodels.api as sm\n",
    "x_train = sm.add_constant(x_train)\n",
    "x_test = sm.add_constant(x_test)\n"
   ]
  },
  {
   "cell_type": "code",
   "execution_count": 45,
   "metadata": {},
   "outputs": [
    {
     "data": {
      "text/plain": [
       "(23998, 16)"
      ]
     },
     "execution_count": 45,
     "metadata": {},
     "output_type": "execute_result"
    }
   ],
   "source": [
    "x_train.shape"
   ]
  },
  {
   "cell_type": "markdown",
   "metadata": {},
   "source": [
    "#### First,we will use logit regression and remove the features greater than our significance level.Here our significance level will be 0.05"
   ]
  },
  {
   "cell_type": "code",
   "execution_count": 46,
   "metadata": {},
   "outputs": [],
   "source": [
    "logit_1 = sm.Logit(y_train,x_train)\n",
    "result = logit_1.fit()\n",
    "result.summary()"
   ]
  },
  {
   "cell_type": "code",
   "execution_count": 49,
   "metadata": {},
   "outputs": [
    {
     "data": {
      "text/html": [
       "<table class=\"simpletable\">\n",
       "<caption>Logit Regression Results</caption>\n",
       "<tr>\n",
       "  <th>Dep. Variable:</th>        <td>default</td>     <th>  No. Observations:  </th>  <td> 23998</td> \n",
       "</tr>\n",
       "<tr>\n",
       "  <th>Model:</th>                 <td>Logit</td>      <th>  Df Residuals:      </th>  <td> 23983</td> \n",
       "</tr>\n",
       "<tr>\n",
       "  <th>Method:</th>                 <td>MLE</td>       <th>  Df Model:          </th>  <td>    14</td> \n",
       "</tr>\n",
       "<tr>\n",
       "  <th>Date:</th>            <td>Tue, 27 Sep 2022</td> <th>  Pseudo R-squ.:     </th>  <td>0.1677</td> \n",
       "</tr>\n",
       "<tr>\n",
       "  <th>Time:</th>                <td>16:14:41</td>     <th>  Log-Likelihood:    </th> <td> -10555.</td>\n",
       "</tr>\n",
       "<tr>\n",
       "  <th>converged:</th>             <td>True</td>       <th>  LL-Null:           </th> <td> -12681.</td>\n",
       "</tr>\n",
       "<tr>\n",
       "  <th>Covariance Type:</th>     <td>nonrobust</td>    <th>  LLR p-value:       </th>  <td> 0.000</td> \n",
       "</tr>\n",
       "</table>\n",
       "<table class=\"simpletable\">\n",
       "<tr>\n",
       "        <td></td>           <th>coef</th>     <th>std err</th>      <th>z</th>      <th>P>|z|</th>  <th>[0.025</th>    <th>0.975]</th>  \n",
       "</tr>\n",
       "<tr>\n",
       "  <th>const</th>         <td>    1.6195</td> <td> 9.69e+05</td> <td> 1.67e-06</td> <td> 1.000</td> <td> -1.9e+06</td> <td>  1.9e+06</td>\n",
       "</tr>\n",
       "<tr>\n",
       "  <th>log_limit_bal</th> <td>   -0.2490</td> <td>    0.020</td> <td>  -12.649</td> <td> 0.000</td> <td>   -0.288</td> <td>   -0.210</td>\n",
       "</tr>\n",
       "<tr>\n",
       "  <th>sex_1</th>         <td>    0.8761</td> <td> 9.69e+05</td> <td> 9.04e-07</td> <td> 1.000</td> <td> -1.9e+06</td> <td>  1.9e+06</td>\n",
       "</tr>\n",
       "<tr>\n",
       "  <th>sex_2</th>         <td>    0.7434</td> <td> 9.69e+05</td> <td> 7.67e-07</td> <td> 1.000</td> <td> -1.9e+06</td> <td>  1.9e+06</td>\n",
       "</tr>\n",
       "<tr>\n",
       "  <th>marriage_1</th>    <td>    0.0914</td> <td>    0.152</td> <td>    0.602</td> <td> 0.547</td> <td>   -0.206</td> <td>    0.389</td>\n",
       "</tr>\n",
       "<tr>\n",
       "  <th>marriage_2</th>    <td>   -0.1244</td> <td>    0.152</td> <td>   -0.820</td> <td> 0.412</td> <td>   -0.422</td> <td>    0.173</td>\n",
       "</tr>\n",
       "<tr>\n",
       "  <th>education_1</th>   <td>    1.1895</td> <td>    0.219</td> <td>    5.442</td> <td> 0.000</td> <td>    0.761</td> <td>    1.618</td>\n",
       "</tr>\n",
       "<tr>\n",
       "  <th>education_2</th>   <td>    1.1649</td> <td>    0.218</td> <td>    5.346</td> <td> 0.000</td> <td>    0.738</td> <td>    1.592</td>\n",
       "</tr>\n",
       "<tr>\n",
       "  <th>education_3</th>   <td>    1.1072</td> <td>    0.221</td> <td>    5.018</td> <td> 0.000</td> <td>    0.675</td> <td>    1.540</td>\n",
       "</tr>\n",
       "<tr>\n",
       "  <th>sep_status_0</th>  <td>   -2.0831</td> <td>    0.060</td> <td>  -34.738</td> <td> 0.000</td> <td>   -2.201</td> <td>   -1.966</td>\n",
       "</tr>\n",
       "<tr>\n",
       "  <th>sep_status_1</th>  <td>   -1.2633</td> <td>    0.061</td> <td>  -20.769</td> <td> 0.000</td> <td>   -1.382</td> <td>   -1.144</td>\n",
       "</tr>\n",
       "<tr>\n",
       "  <th>aug_status_0</th>  <td>   -0.0586</td> <td>    0.135</td> <td>   -0.433</td> <td> 0.665</td> <td>   -0.324</td> <td>    0.207</td>\n",
       "</tr>\n",
       "<tr>\n",
       "  <th>aug_status_2</th>  <td>    0.2195</td> <td>    0.127</td> <td>    1.728</td> <td> 0.084</td> <td>   -0.029</td> <td>    0.468</td>\n",
       "</tr>\n",
       "<tr>\n",
       "  <th>jul_status_0</th>  <td>    0.0610</td> <td>    0.157</td> <td>    0.390</td> <td> 0.697</td> <td>   -0.246</td> <td>    0.368</td>\n",
       "</tr>\n",
       "<tr>\n",
       "  <th>jul_status_2</th>  <td>    0.4436</td> <td>    0.145</td> <td>    3.064</td> <td> 0.002</td> <td>    0.160</td> <td>    0.727</td>\n",
       "</tr>\n",
       "<tr>\n",
       "  <th>jun_status_0</th>  <td>   -0.4547</td> <td>    0.062</td> <td>   -7.321</td> <td> 0.000</td> <td>   -0.576</td> <td>   -0.333</td>\n",
       "</tr>\n",
       "</table>"
      ],
      "text/plain": [
       "<class 'statsmodels.iolib.summary.Summary'>\n",
       "\"\"\"\n",
       "                           Logit Regression Results                           \n",
       "==============================================================================\n",
       "Dep. Variable:                default   No. Observations:                23998\n",
       "Model:                          Logit   Df Residuals:                    23983\n",
       "Method:                           MLE   Df Model:                           14\n",
       "Date:                Tue, 27 Sep 2022   Pseudo R-squ.:                  0.1677\n",
       "Time:                        16:14:41   Log-Likelihood:                -10555.\n",
       "converged:                       True   LL-Null:                       -12681.\n",
       "Covariance Type:            nonrobust   LLR p-value:                     0.000\n",
       "=================================================================================\n",
       "                    coef    std err          z      P>|z|      [0.025      0.975]\n",
       "---------------------------------------------------------------------------------\n",
       "const             1.6195   9.69e+05   1.67e-06      1.000    -1.9e+06     1.9e+06\n",
       "log_limit_bal    -0.2490      0.020    -12.649      0.000      -0.288      -0.210\n",
       "sex_1             0.8761   9.69e+05   9.04e-07      1.000    -1.9e+06     1.9e+06\n",
       "sex_2             0.7434   9.69e+05   7.67e-07      1.000    -1.9e+06     1.9e+06\n",
       "marriage_1        0.0914      0.152      0.602      0.547      -0.206       0.389\n",
       "marriage_2       -0.1244      0.152     -0.820      0.412      -0.422       0.173\n",
       "education_1       1.1895      0.219      5.442      0.000       0.761       1.618\n",
       "education_2       1.1649      0.218      5.346      0.000       0.738       1.592\n",
       "education_3       1.1072      0.221      5.018      0.000       0.675       1.540\n",
       "sep_status_0     -2.0831      0.060    -34.738      0.000      -2.201      -1.966\n",
       "sep_status_1     -1.2633      0.061    -20.769      0.000      -1.382      -1.144\n",
       "aug_status_0     -0.0586      0.135     -0.433      0.665      -0.324       0.207\n",
       "aug_status_2      0.2195      0.127      1.728      0.084      -0.029       0.468\n",
       "jul_status_0      0.0610      0.157      0.390      0.697      -0.246       0.368\n",
       "jul_status_2      0.4436      0.145      3.064      0.002       0.160       0.727\n",
       "jun_status_0     -0.4547      0.062     -7.321      0.000      -0.576      -0.333\n",
       "=================================================================================\n",
       "\"\"\""
      ]
     },
     "execution_count": 49,
     "metadata": {},
     "output_type": "execute_result"
    }
   ],
   "source": []
  },
  {
   "cell_type": "markdown",
   "metadata": {},
   "source": [
    "#### We see sex_1 has high p value.we will remove the feature with highest p value and repeat the same process through backward elimination"
   ]
  },
  {
   "cell_type": "code",
   "execution_count": 51,
   "metadata": {},
   "outputs": [
    {
     "name": "stdout",
     "output_type": "stream",
     "text": [
      "Optimization terminated successfully.\n",
      "         Current function value: 0.439809\n",
      "         Iterations 7\n"
     ]
    },
    {
     "data": {
      "text/html": [
       "<table class=\"simpletable\">\n",
       "<caption>Logit Regression Results</caption>\n",
       "<tr>\n",
       "  <th>Dep. Variable:</th>        <td>default</td>     <th>  No. Observations:  </th>  <td> 23998</td> \n",
       "</tr>\n",
       "<tr>\n",
       "  <th>Model:</th>                 <td>Logit</td>      <th>  Df Residuals:      </th>  <td> 23983</td> \n",
       "</tr>\n",
       "<tr>\n",
       "  <th>Method:</th>                 <td>MLE</td>       <th>  Df Model:          </th>  <td>    14</td> \n",
       "</tr>\n",
       "<tr>\n",
       "  <th>Date:</th>            <td>Tue, 27 Sep 2022</td> <th>  Pseudo R-squ.:     </th>  <td>0.1677</td> \n",
       "</tr>\n",
       "<tr>\n",
       "  <th>Time:</th>                <td>16:14:48</td>     <th>  Log-Likelihood:    </th> <td> -10555.</td>\n",
       "</tr>\n",
       "<tr>\n",
       "  <th>converged:</th>             <td>True</td>       <th>  LL-Null:           </th> <td> -12681.</td>\n",
       "</tr>\n",
       "<tr>\n",
       "  <th>Covariance Type:</th>     <td>nonrobust</td>    <th>  LLR p-value:       </th>  <td> 0.000</td> \n",
       "</tr>\n",
       "</table>\n",
       "<table class=\"simpletable\">\n",
       "<tr>\n",
       "        <td></td>           <th>coef</th>     <th>std err</th>      <th>z</th>      <th>P>|z|</th>  <th>[0.025</th>    <th>0.975]</th>  \n",
       "</tr>\n",
       "<tr>\n",
       "  <th>const</th>         <td>    2.4956</td> <td>    0.363</td> <td>    6.882</td> <td> 0.000</td> <td>    1.785</td> <td>    3.206</td>\n",
       "</tr>\n",
       "<tr>\n",
       "  <th>log_limit_bal</th> <td>   -0.2490</td> <td>    0.020</td> <td>  -12.649</td> <td> 0.000</td> <td>   -0.288</td> <td>   -0.210</td>\n",
       "</tr>\n",
       "<tr>\n",
       "  <th>sex_2</th>         <td>   -0.1327</td> <td>    0.036</td> <td>   -3.732</td> <td> 0.000</td> <td>   -0.202</td> <td>   -0.063</td>\n",
       "</tr>\n",
       "<tr>\n",
       "  <th>marriage_1</th>    <td>    0.0914</td> <td>    0.152</td> <td>    0.602</td> <td> 0.547</td> <td>   -0.206</td> <td>    0.389</td>\n",
       "</tr>\n",
       "<tr>\n",
       "  <th>marriage_2</th>    <td>   -0.1244</td> <td>    0.152</td> <td>   -0.820</td> <td> 0.412</td> <td>   -0.422</td> <td>    0.173</td>\n",
       "</tr>\n",
       "<tr>\n",
       "  <th>education_1</th>   <td>    1.1895</td> <td>    0.219</td> <td>    5.442</td> <td> 0.000</td> <td>    0.761</td> <td>    1.618</td>\n",
       "</tr>\n",
       "<tr>\n",
       "  <th>education_2</th>   <td>    1.1649</td> <td>    0.218</td> <td>    5.346</td> <td> 0.000</td> <td>    0.738</td> <td>    1.592</td>\n",
       "</tr>\n",
       "<tr>\n",
       "  <th>education_3</th>   <td>    1.1072</td> <td>    0.221</td> <td>    5.018</td> <td> 0.000</td> <td>    0.675</td> <td>    1.540</td>\n",
       "</tr>\n",
       "<tr>\n",
       "  <th>sep_status_0</th>  <td>   -2.0831</td> <td>    0.060</td> <td>  -34.738</td> <td> 0.000</td> <td>   -2.201</td> <td>   -1.966</td>\n",
       "</tr>\n",
       "<tr>\n",
       "  <th>sep_status_1</th>  <td>   -1.2633</td> <td>    0.061</td> <td>  -20.769</td> <td> 0.000</td> <td>   -1.382</td> <td>   -1.144</td>\n",
       "</tr>\n",
       "<tr>\n",
       "  <th>aug_status_0</th>  <td>   -0.0586</td> <td>    0.135</td> <td>   -0.433</td> <td> 0.665</td> <td>   -0.324</td> <td>    0.207</td>\n",
       "</tr>\n",
       "<tr>\n",
       "  <th>aug_status_2</th>  <td>    0.2195</td> <td>    0.127</td> <td>    1.728</td> <td> 0.084</td> <td>   -0.029</td> <td>    0.468</td>\n",
       "</tr>\n",
       "<tr>\n",
       "  <th>jul_status_0</th>  <td>    0.0610</td> <td>    0.157</td> <td>    0.390</td> <td> 0.697</td> <td>   -0.246</td> <td>    0.368</td>\n",
       "</tr>\n",
       "<tr>\n",
       "  <th>jul_status_2</th>  <td>    0.4436</td> <td>    0.145</td> <td>    3.064</td> <td> 0.002</td> <td>    0.160</td> <td>    0.727</td>\n",
       "</tr>\n",
       "<tr>\n",
       "  <th>jun_status_0</th>  <td>   -0.4547</td> <td>    0.062</td> <td>   -7.321</td> <td> 0.000</td> <td>   -0.576</td> <td>   -0.333</td>\n",
       "</tr>\n",
       "</table>"
      ],
      "text/plain": [
       "<class 'statsmodels.iolib.summary.Summary'>\n",
       "\"\"\"\n",
       "                           Logit Regression Results                           \n",
       "==============================================================================\n",
       "Dep. Variable:                default   No. Observations:                23998\n",
       "Model:                          Logit   Df Residuals:                    23983\n",
       "Method:                           MLE   Df Model:                           14\n",
       "Date:                Tue, 27 Sep 2022   Pseudo R-squ.:                  0.1677\n",
       "Time:                        16:14:48   Log-Likelihood:                -10555.\n",
       "converged:                       True   LL-Null:                       -12681.\n",
       "Covariance Type:            nonrobust   LLR p-value:                     0.000\n",
       "=================================================================================\n",
       "                    coef    std err          z      P>|z|      [0.025      0.975]\n",
       "---------------------------------------------------------------------------------\n",
       "const             2.4956      0.363      6.882      0.000       1.785       3.206\n",
       "log_limit_bal    -0.2490      0.020    -12.649      0.000      -0.288      -0.210\n",
       "sex_2            -0.1327      0.036     -3.732      0.000      -0.202      -0.063\n",
       "marriage_1        0.0914      0.152      0.602      0.547      -0.206       0.389\n",
       "marriage_2       -0.1244      0.152     -0.820      0.412      -0.422       0.173\n",
       "education_1       1.1895      0.219      5.442      0.000       0.761       1.618\n",
       "education_2       1.1649      0.218      5.346      0.000       0.738       1.592\n",
       "education_3       1.1072      0.221      5.018      0.000       0.675       1.540\n",
       "sep_status_0     -2.0831      0.060    -34.738      0.000      -2.201      -1.966\n",
       "sep_status_1     -1.2633      0.061    -20.769      0.000      -1.382      -1.144\n",
       "aug_status_0     -0.0586      0.135     -0.433      0.665      -0.324       0.207\n",
       "aug_status_2      0.2195      0.127      1.728      0.084      -0.029       0.468\n",
       "jul_status_0      0.0610      0.157      0.390      0.697      -0.246       0.368\n",
       "jul_status_2      0.4436      0.145      3.064      0.002       0.160       0.727\n",
       "jun_status_0     -0.4547      0.062     -7.321      0.000      -0.576      -0.333\n",
       "=================================================================================\n",
       "\"\"\""
      ]
     },
     "execution_count": 51,
     "metadata": {},
     "output_type": "execute_result"
    }
   ],
   "source": [
    "x_train = x_train.drop('sex_1',axis=1)\n",
    "logit_2 = sm.Logit(y_train,x_train)\n",
    "result_2= logit_2.fit()\n",
    "result_2.summary()"
   ]
  },
  {
   "cell_type": "code",
   "execution_count": 52,
   "metadata": {},
   "outputs": [
    {
     "name": "stdout",
     "output_type": "stream",
     "text": [
      "Optimization terminated successfully.\n",
      "         Current function value: 0.439812\n",
      "         Iterations 7\n"
     ]
    },
    {
     "data": {
      "text/html": [
       "<table class=\"simpletable\">\n",
       "<caption>Logit Regression Results</caption>\n",
       "<tr>\n",
       "  <th>Dep. Variable:</th>        <td>default</td>     <th>  No. Observations:  </th>  <td> 23998</td> \n",
       "</tr>\n",
       "<tr>\n",
       "  <th>Model:</th>                 <td>Logit</td>      <th>  Df Residuals:      </th>  <td> 23984</td> \n",
       "</tr>\n",
       "<tr>\n",
       "  <th>Method:</th>                 <td>MLE</td>       <th>  Df Model:          </th>  <td>    13</td> \n",
       "</tr>\n",
       "<tr>\n",
       "  <th>Date:</th>            <td>Tue, 27 Sep 2022</td> <th>  Pseudo R-squ.:     </th>  <td>0.1677</td> \n",
       "</tr>\n",
       "<tr>\n",
       "  <th>Time:</th>                <td>16:14:49</td>     <th>  Log-Likelihood:    </th> <td> -10555.</td>\n",
       "</tr>\n",
       "<tr>\n",
       "  <th>converged:</th>             <td>True</td>       <th>  LL-Null:           </th> <td> -12681.</td>\n",
       "</tr>\n",
       "<tr>\n",
       "  <th>Covariance Type:</th>     <td>nonrobust</td>    <th>  LLR p-value:       </th>  <td> 0.000</td> \n",
       "</tr>\n",
       "</table>\n",
       "<table class=\"simpletable\">\n",
       "<tr>\n",
       "        <td></td>           <th>coef</th>     <th>std err</th>      <th>z</th>      <th>P>|z|</th>  <th>[0.025</th>    <th>0.975]</th>  \n",
       "</tr>\n",
       "<tr>\n",
       "  <th>const</th>         <td>    2.5197</td> <td>    0.357</td> <td>    7.052</td> <td> 0.000</td> <td>    1.819</td> <td>    3.220</td>\n",
       "</tr>\n",
       "<tr>\n",
       "  <th>log_limit_bal</th> <td>   -0.2487</td> <td>    0.020</td> <td>  -12.643</td> <td> 0.000</td> <td>   -0.287</td> <td>   -0.210</td>\n",
       "</tr>\n",
       "<tr>\n",
       "  <th>sex_2</th>         <td>   -0.1325</td> <td>    0.036</td> <td>   -3.727</td> <td> 0.000</td> <td>   -0.202</td> <td>   -0.063</td>\n",
       "</tr>\n",
       "<tr>\n",
       "  <th>marriage_1</th>    <td>    0.0923</td> <td>    0.152</td> <td>    0.608</td> <td> 0.543</td> <td>   -0.205</td> <td>    0.390</td>\n",
       "</tr>\n",
       "<tr>\n",
       "  <th>marriage_2</th>    <td>   -0.1236</td> <td>    0.152</td> <td>   -0.814</td> <td> 0.415</td> <td>   -0.421</td> <td>    0.174</td>\n",
       "</tr>\n",
       "<tr>\n",
       "  <th>education_1</th>   <td>    1.1889</td> <td>    0.219</td> <td>    5.440</td> <td> 0.000</td> <td>    0.761</td> <td>    1.617</td>\n",
       "</tr>\n",
       "<tr>\n",
       "  <th>education_2</th>   <td>    1.1644</td> <td>    0.218</td> <td>    5.344</td> <td> 0.000</td> <td>    0.737</td> <td>    1.591</td>\n",
       "</tr>\n",
       "<tr>\n",
       "  <th>education_3</th>   <td>    1.1068</td> <td>    0.221</td> <td>    5.017</td> <td> 0.000</td> <td>    0.674</td> <td>    1.539</td>\n",
       "</tr>\n",
       "<tr>\n",
       "  <th>sep_status_0</th>  <td>   -2.0824</td> <td>    0.060</td> <td>  -34.745</td> <td> 0.000</td> <td>   -2.200</td> <td>   -1.965</td>\n",
       "</tr>\n",
       "<tr>\n",
       "  <th>sep_status_1</th>  <td>   -1.2621</td> <td>    0.061</td> <td>  -20.776</td> <td> 0.000</td> <td>   -1.381</td> <td>   -1.143</td>\n",
       "</tr>\n",
       "<tr>\n",
       "  <th>aug_status_0</th>  <td>   -0.0352</td> <td>    0.121</td> <td>   -0.290</td> <td> 0.772</td> <td>   -0.273</td> <td>    0.203</td>\n",
       "</tr>\n",
       "<tr>\n",
       "  <th>aug_status_2</th>  <td>    0.2392</td> <td>    0.116</td> <td>    2.054</td> <td> 0.040</td> <td>    0.011</td> <td>    0.467</td>\n",
       "</tr>\n",
       "<tr>\n",
       "  <th>jul_status_2</th>  <td>    0.3921</td> <td>    0.059</td> <td>    6.612</td> <td> 0.000</td> <td>    0.276</td> <td>    0.508</td>\n",
       "</tr>\n",
       "<tr>\n",
       "  <th>jun_status_0</th>  <td>   -0.4462</td> <td>    0.058</td> <td>   -7.674</td> <td> 0.000</td> <td>   -0.560</td> <td>   -0.332</td>\n",
       "</tr>\n",
       "</table>"
      ],
      "text/plain": [
       "<class 'statsmodels.iolib.summary.Summary'>\n",
       "\"\"\"\n",
       "                           Logit Regression Results                           \n",
       "==============================================================================\n",
       "Dep. Variable:                default   No. Observations:                23998\n",
       "Model:                          Logit   Df Residuals:                    23984\n",
       "Method:                           MLE   Df Model:                           13\n",
       "Date:                Tue, 27 Sep 2022   Pseudo R-squ.:                  0.1677\n",
       "Time:                        16:14:49   Log-Likelihood:                -10555.\n",
       "converged:                       True   LL-Null:                       -12681.\n",
       "Covariance Type:            nonrobust   LLR p-value:                     0.000\n",
       "=================================================================================\n",
       "                    coef    std err          z      P>|z|      [0.025      0.975]\n",
       "---------------------------------------------------------------------------------\n",
       "const             2.5197      0.357      7.052      0.000       1.819       3.220\n",
       "log_limit_bal    -0.2487      0.020    -12.643      0.000      -0.287      -0.210\n",
       "sex_2            -0.1325      0.036     -3.727      0.000      -0.202      -0.063\n",
       "marriage_1        0.0923      0.152      0.608      0.543      -0.205       0.390\n",
       "marriage_2       -0.1236      0.152     -0.814      0.415      -0.421       0.174\n",
       "education_1       1.1889      0.219      5.440      0.000       0.761       1.617\n",
       "education_2       1.1644      0.218      5.344      0.000       0.737       1.591\n",
       "education_3       1.1068      0.221      5.017      0.000       0.674       1.539\n",
       "sep_status_0     -2.0824      0.060    -34.745      0.000      -2.200      -1.965\n",
       "sep_status_1     -1.2621      0.061    -20.776      0.000      -1.381      -1.143\n",
       "aug_status_0     -0.0352      0.121     -0.290      0.772      -0.273       0.203\n",
       "aug_status_2      0.2392      0.116      2.054      0.040       0.011       0.467\n",
       "jul_status_2      0.3921      0.059      6.612      0.000       0.276       0.508\n",
       "jun_status_0     -0.4462      0.058     -7.674      0.000      -0.560      -0.332\n",
       "=================================================================================\n",
       "\"\"\""
      ]
     },
     "execution_count": 52,
     "metadata": {},
     "output_type": "execute_result"
    }
   ],
   "source": [
    "x_train = x_train.drop('jul_status_0',axis=1)\n",
    "logit_3 = sm.Logit(y_train,x_train)\n",
    "result_3= logit_3.fit()\n",
    "result_3.summary()"
   ]
  },
  {
   "cell_type": "code",
   "execution_count": 53,
   "metadata": {},
   "outputs": [
    {
     "name": "stdout",
     "output_type": "stream",
     "text": [
      "Optimization terminated successfully.\n",
      "         Current function value: 0.439814\n",
      "         Iterations 7\n"
     ]
    },
    {
     "data": {
      "text/html": [
       "<table class=\"simpletable\">\n",
       "<caption>Logit Regression Results</caption>\n",
       "<tr>\n",
       "  <th>Dep. Variable:</th>        <td>default</td>     <th>  No. Observations:  </th>  <td> 23998</td> \n",
       "</tr>\n",
       "<tr>\n",
       "  <th>Model:</th>                 <td>Logit</td>      <th>  Df Residuals:      </th>  <td> 23985</td> \n",
       "</tr>\n",
       "<tr>\n",
       "  <th>Method:</th>                 <td>MLE</td>       <th>  Df Model:          </th>  <td>    12</td> \n",
       "</tr>\n",
       "<tr>\n",
       "  <th>Date:</th>            <td>Tue, 27 Sep 2022</td> <th>  Pseudo R-squ.:     </th>  <td>0.1677</td> \n",
       "</tr>\n",
       "<tr>\n",
       "  <th>Time:</th>                <td>16:14:55</td>     <th>  Log-Likelihood:    </th> <td> -10555.</td>\n",
       "</tr>\n",
       "<tr>\n",
       "  <th>converged:</th>             <td>True</td>       <th>  LL-Null:           </th> <td> -12681.</td>\n",
       "</tr>\n",
       "<tr>\n",
       "  <th>Covariance Type:</th>     <td>nonrobust</td>    <th>  LLR p-value:       </th>  <td> 0.000</td> \n",
       "</tr>\n",
       "</table>\n",
       "<table class=\"simpletable\">\n",
       "<tr>\n",
       "        <td></td>           <th>coef</th>     <th>std err</th>      <th>z</th>      <th>P>|z|</th>  <th>[0.025</th>    <th>0.975]</th>  \n",
       "</tr>\n",
       "<tr>\n",
       "  <th>const</th>         <td>    2.4948</td> <td>    0.347</td> <td>    7.194</td> <td> 0.000</td> <td>    1.815</td> <td>    3.174</td>\n",
       "</tr>\n",
       "<tr>\n",
       "  <th>log_limit_bal</th> <td>   -0.2490</td> <td>    0.020</td> <td>  -12.680</td> <td> 0.000</td> <td>   -0.288</td> <td>   -0.211</td>\n",
       "</tr>\n",
       "<tr>\n",
       "  <th>sex_2</th>         <td>   -0.1328</td> <td>    0.036</td> <td>   -3.738</td> <td> 0.000</td> <td>   -0.202</td> <td>   -0.063</td>\n",
       "</tr>\n",
       "<tr>\n",
       "  <th>marriage_1</th>    <td>    0.0923</td> <td>    0.152</td> <td>    0.608</td> <td> 0.543</td> <td>   -0.205</td> <td>    0.390</td>\n",
       "</tr>\n",
       "<tr>\n",
       "  <th>marriage_2</th>    <td>   -0.1235</td> <td>    0.152</td> <td>   -0.814</td> <td> 0.416</td> <td>   -0.421</td> <td>    0.174</td>\n",
       "</tr>\n",
       "<tr>\n",
       "  <th>education_1</th>   <td>    1.1896</td> <td>    0.219</td> <td>    5.442</td> <td> 0.000</td> <td>    0.761</td> <td>    1.618</td>\n",
       "</tr>\n",
       "<tr>\n",
       "  <th>education_2</th>   <td>    1.1654</td> <td>    0.218</td> <td>    5.349</td> <td> 0.000</td> <td>    0.738</td> <td>    1.592</td>\n",
       "</tr>\n",
       "<tr>\n",
       "  <th>education_3</th>   <td>    1.1077</td> <td>    0.221</td> <td>    5.020</td> <td> 0.000</td> <td>    0.675</td> <td>    1.540</td>\n",
       "</tr>\n",
       "<tr>\n",
       "  <th>sep_status_0</th>  <td>   -2.0867</td> <td>    0.058</td> <td>  -35.947</td> <td> 0.000</td> <td>   -2.200</td> <td>   -1.973</td>\n",
       "</tr>\n",
       "<tr>\n",
       "  <th>sep_status_1</th>  <td>   -1.2627</td> <td>    0.061</td> <td>  -20.797</td> <td> 0.000</td> <td>   -1.382</td> <td>   -1.144</td>\n",
       "</tr>\n",
       "<tr>\n",
       "  <th>aug_status_2</th>  <td>    0.2681</td> <td>    0.060</td> <td>    4.436</td> <td> 0.000</td> <td>    0.150</td> <td>    0.387</td>\n",
       "</tr>\n",
       "<tr>\n",
       "  <th>jul_status_2</th>  <td>    0.3944</td> <td>    0.059</td> <td>    6.714</td> <td> 0.000</td> <td>    0.279</td> <td>    0.510</td>\n",
       "</tr>\n",
       "<tr>\n",
       "  <th>jun_status_0</th>  <td>   -0.4492</td> <td>    0.057</td> <td>   -7.859</td> <td> 0.000</td> <td>   -0.561</td> <td>   -0.337</td>\n",
       "</tr>\n",
       "</table>"
      ],
      "text/plain": [
       "<class 'statsmodels.iolib.summary.Summary'>\n",
       "\"\"\"\n",
       "                           Logit Regression Results                           \n",
       "==============================================================================\n",
       "Dep. Variable:                default   No. Observations:                23998\n",
       "Model:                          Logit   Df Residuals:                    23985\n",
       "Method:                           MLE   Df Model:                           12\n",
       "Date:                Tue, 27 Sep 2022   Pseudo R-squ.:                  0.1677\n",
       "Time:                        16:14:55   Log-Likelihood:                -10555.\n",
       "converged:                       True   LL-Null:                       -12681.\n",
       "Covariance Type:            nonrobust   LLR p-value:                     0.000\n",
       "=================================================================================\n",
       "                    coef    std err          z      P>|z|      [0.025      0.975]\n",
       "---------------------------------------------------------------------------------\n",
       "const             2.4948      0.347      7.194      0.000       1.815       3.174\n",
       "log_limit_bal    -0.2490      0.020    -12.680      0.000      -0.288      -0.211\n",
       "sex_2            -0.1328      0.036     -3.738      0.000      -0.202      -0.063\n",
       "marriage_1        0.0923      0.152      0.608      0.543      -0.205       0.390\n",
       "marriage_2       -0.1235      0.152     -0.814      0.416      -0.421       0.174\n",
       "education_1       1.1896      0.219      5.442      0.000       0.761       1.618\n",
       "education_2       1.1654      0.218      5.349      0.000       0.738       1.592\n",
       "education_3       1.1077      0.221      5.020      0.000       0.675       1.540\n",
       "sep_status_0     -2.0867      0.058    -35.947      0.000      -2.200      -1.973\n",
       "sep_status_1     -1.2627      0.061    -20.797      0.000      -1.382      -1.144\n",
       "aug_status_2      0.2681      0.060      4.436      0.000       0.150       0.387\n",
       "jul_status_2      0.3944      0.059      6.714      0.000       0.279       0.510\n",
       "jun_status_0     -0.4492      0.057     -7.859      0.000      -0.561      -0.337\n",
       "=================================================================================\n",
       "\"\"\""
      ]
     },
     "execution_count": 53,
     "metadata": {},
     "output_type": "execute_result"
    }
   ],
   "source": [
    "x_train = x_train.drop('aug_status_0',axis=1)\n",
    "logit_4 = sm.Logit(y_train,x_train)\n",
    "result_4= logit_4.fit()\n",
    "result_4.summary()"
   ]
  },
  {
   "cell_type": "markdown",
   "metadata": {},
   "source": [
    "x_train = x_train.drop('marriage_1',axis=1)\n",
    "logit_5 = sm.Logit(y_train,x_train)\n",
    "result_5= logit_5.fit()\n",
    "result_5.summary()"
   ]
  },
  {
   "cell_type": "markdown",
   "metadata": {},
   "source": [
    "#### We see that the following features are significant\n",
    "#### limit_bal,Female,married or single in marriage,(Grad,University degree or high school in education column),and the last 2 or 3 month pay status"
   ]
  },
  {
   "cell_type": "markdown",
   "metadata": {},
   "source": [
    "#### Finally,We see that the p values are less than 0.05 and it signals,we have the important features for our model"
   ]
  },
  {
   "cell_type": "code",
   "execution_count": 57,
   "metadata": {},
   "outputs": [],
   "source": [
    "drop_list =['sex_1','jul_status_0','aug_status_0','marriage_1']"
   ]
  },
  {
   "cell_type": "code",
   "execution_count": 58,
   "metadata": {},
   "outputs": [],
   "source": [
    "x_test = x_test.drop(drop_list,axis=1)"
   ]
  },
  {
   "cell_type": "code",
   "execution_count": 62,
   "metadata": {},
   "outputs": [
    {
     "data": {
      "text/plain": [
       "Index(['const', 'log_limit_bal', 'sex_2', 'marriage_2', 'education_1',\n",
       "       'education_2', 'education_3', 'sep_status_0', 'sep_status_1',\n",
       "       'aug_status_2', 'jul_status_2', 'jun_status_0'],\n",
       "      dtype='object')"
      ]
     },
     "execution_count": 62,
     "metadata": {},
     "output_type": "execute_result"
    }
   ],
   "source": [
    "x_train.columns"
   ]
  },
  {
   "cell_type": "code",
   "execution_count": 65,
   "metadata": {},
   "outputs": [],
   "source": [
    "new_x_train = x_train.drop('const',axis=1)\n",
    "new_x_test = x_test[new_x_train.columns]"
   ]
  },
  {
   "cell_type": "code",
   "execution_count": 66,
   "metadata": {},
   "outputs": [
    {
     "data": {
      "text/plain": [
       "(23998, 11)"
      ]
     },
     "execution_count": 66,
     "metadata": {},
     "output_type": "execute_result"
    }
   ],
   "source": [
    "new_x_train.shape"
   ]
  },
  {
   "cell_type": "code",
   "execution_count": 67,
   "metadata": {},
   "outputs": [
    {
     "data": {
      "text/plain": [
       "(6000, 11)"
      ]
     },
     "execution_count": 67,
     "metadata": {},
     "output_type": "execute_result"
    }
   ],
   "source": [
    "new_x_test.shape"
   ]
  },
  {
   "cell_type": "markdown",
   "metadata": {},
   "source": [
    "#### Lets build a new model with the important feature and evaluate it"
   ]
  },
  {
   "cell_type": "code",
   "execution_count": 71,
   "metadata": {},
   "outputs": [
    {
     "name": "stderr",
     "output_type": "stream",
     "text": [
      "D:\\Program Files\\Anaconda3\\lib\\site-packages\\sklearn\\linear_model\\logistic.py:432: FutureWarning: Default solver will be changed to 'lbfgs' in 0.22. Specify a solver to silence this warning.\n",
      "  FutureWarning)\n"
     ]
    }
   ],
   "source": [
    "logistic_model =  LogisticRegression(class_weight='balanced')\n",
    "logisitc_model = logistic_model.fit(new_x_train,y_train)"
   ]
  },
  {
   "cell_type": "code",
   "execution_count": 73,
   "metadata": {},
   "outputs": [
    {
     "data": {
      "text/plain": [
       "0.7805650470872573"
      ]
     },
     "execution_count": 73,
     "metadata": {},
     "output_type": "execute_result"
    }
   ],
   "source": [
    "logisitc_model.score(new_x_train,y_train)"
   ]
  },
  {
   "cell_type": "code",
   "execution_count": 74,
   "metadata": {},
   "outputs": [],
   "source": [
    "predicted = logisitc_model.predict(new_x_test)"
   ]
  },
  {
   "cell_type": "code",
   "execution_count": 76,
   "metadata": {},
   "outputs": [
    {
     "data": {
      "text/plain": [
       "0.5474397590361446"
      ]
     },
     "execution_count": 76,
     "metadata": {},
     "output_type": "execute_result"
    }
   ],
   "source": [
    "metrics.recall_score(y_test,predicted)"
   ]
  },
  {
   "cell_type": "code",
   "execution_count": 77,
   "metadata": {},
   "outputs": [
    {
     "data": {
      "text/plain": [
       "0.6952738178742367"
      ]
     },
     "execution_count": 77,
     "metadata": {},
     "output_type": "execute_result"
    }
   ],
   "source": [
    "metrics.roc_auc_score(y_test,predicted)"
   ]
  },
  {
   "cell_type": "code",
   "execution_count": 78,
   "metadata": {},
   "outputs": [
    {
     "data": {
      "text/plain": [
       "0.5215208034433285"
      ]
     },
     "execution_count": 78,
     "metadata": {},
     "output_type": "execute_result"
    }
   ],
   "source": [
    "metrics.f1_score(y_test,predicted)"
   ]
  },
  {
   "cell_type": "markdown",
   "metadata": {},
   "source": [
    "#### The metrics with this model is somewhat good but does not beat our Xgboost model.I am not doing the oversampling and downsampling here as i have time crunch issues"
   ]
  }
 ],
 "metadata": {
  "kernelspec": {
   "display_name": "Python 3",
   "language": "python",
   "name": "python3"
  },
  "language_info": {
   "codemirror_mode": {
    "name": "ipython",
    "version": 3
   },
   "file_extension": ".py",
   "mimetype": "text/x-python",
   "name": "python",
   "nbconvert_exporter": "python",
   "pygments_lexer": "ipython3",
   "version": "3.7.3"
  }
 },
 "nbformat": 4,
 "nbformat_minor": 2
}
