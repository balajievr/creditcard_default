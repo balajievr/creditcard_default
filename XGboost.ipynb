{
 "cells": [
  {
   "cell_type": "markdown",
   "metadata": {},
   "source": [
    "### Import Libraries"
   ]
  },
  {
   "cell_type": "code",
   "execution_count": 83,
   "metadata": {},
   "outputs": [],
   "source": [
    "import pandas as pd\n",
    "import numpy as np\n",
    "import matplotlib.pyplot as plt\n",
    "import seaborn as sns\n",
    "from sklearn.preprocessing import OneHotEncoder\n",
    "from statsmodels.stats.outliers_influence import variance_inflation_factor\n",
    "import xgboost as xgb\n",
    "from sklearn.model_selection import train_test_split\n",
    "from sklearn.utils import resample\n",
    "from sklearn import model_selection\n",
    "from sklearn import metrics"
   ]
  },
  {
   "cell_type": "code",
   "execution_count": 84,
   "metadata": {},
   "outputs": [],
   "source": [
    "df = pd.read_excel('input_model.xlsx')"
   ]
  },
  {
   "cell_type": "code",
   "execution_count": 85,
   "metadata": {},
   "outputs": [
    {
     "data": {
      "text/html": [
       "<div>\n",
       "<style scoped>\n",
       "    .dataframe tbody tr th:only-of-type {\n",
       "        vertical-align: middle;\n",
       "    }\n",
       "\n",
       "    .dataframe tbody tr th {\n",
       "        vertical-align: top;\n",
       "    }\n",
       "\n",
       "    .dataframe thead th {\n",
       "        text-align: right;\n",
       "    }\n",
       "</style>\n",
       "<table border=\"1\" class=\"dataframe\">\n",
       "  <thead>\n",
       "    <tr style=\"text-align: right;\">\n",
       "      <th></th>\n",
       "      <th>log_limit_bal</th>\n",
       "      <th>log_age</th>\n",
       "      <th>sex</th>\n",
       "      <th>marriage</th>\n",
       "      <th>education</th>\n",
       "      <th>sep_status</th>\n",
       "      <th>aug_status</th>\n",
       "      <th>jul_status</th>\n",
       "      <th>jun_status</th>\n",
       "      <th>may_status</th>\n",
       "      <th>apr_status</th>\n",
       "      <th>default</th>\n",
       "    </tr>\n",
       "  </thead>\n",
       "  <tbody>\n",
       "    <tr>\n",
       "      <th>0</th>\n",
       "      <td>9.903488</td>\n",
       "      <td>3.178054</td>\n",
       "      <td>2</td>\n",
       "      <td>1</td>\n",
       "      <td>2</td>\n",
       "      <td>2</td>\n",
       "      <td>2</td>\n",
       "      <td>0</td>\n",
       "      <td>0</td>\n",
       "      <td>0</td>\n",
       "      <td>0</td>\n",
       "      <td>1</td>\n",
       "    </tr>\n",
       "    <tr>\n",
       "      <th>1</th>\n",
       "      <td>11.695247</td>\n",
       "      <td>3.258097</td>\n",
       "      <td>2</td>\n",
       "      <td>2</td>\n",
       "      <td>2</td>\n",
       "      <td>0</td>\n",
       "      <td>2</td>\n",
       "      <td>0</td>\n",
       "      <td>0</td>\n",
       "      <td>0</td>\n",
       "      <td>2</td>\n",
       "      <td>1</td>\n",
       "    </tr>\n",
       "    <tr>\n",
       "      <th>2</th>\n",
       "      <td>11.407565</td>\n",
       "      <td>3.526361</td>\n",
       "      <td>2</td>\n",
       "      <td>2</td>\n",
       "      <td>2</td>\n",
       "      <td>0</td>\n",
       "      <td>0</td>\n",
       "      <td>0</td>\n",
       "      <td>0</td>\n",
       "      <td>0</td>\n",
       "      <td>0</td>\n",
       "      <td>0</td>\n",
       "    </tr>\n",
       "    <tr>\n",
       "      <th>3</th>\n",
       "      <td>10.819778</td>\n",
       "      <td>3.610918</td>\n",
       "      <td>2</td>\n",
       "      <td>1</td>\n",
       "      <td>2</td>\n",
       "      <td>0</td>\n",
       "      <td>0</td>\n",
       "      <td>0</td>\n",
       "      <td>0</td>\n",
       "      <td>0</td>\n",
       "      <td>0</td>\n",
       "      <td>0</td>\n",
       "    </tr>\n",
       "    <tr>\n",
       "      <th>4</th>\n",
       "      <td>10.819778</td>\n",
       "      <td>4.043051</td>\n",
       "      <td>1</td>\n",
       "      <td>1</td>\n",
       "      <td>2</td>\n",
       "      <td>0</td>\n",
       "      <td>0</td>\n",
       "      <td>0</td>\n",
       "      <td>0</td>\n",
       "      <td>0</td>\n",
       "      <td>0</td>\n",
       "      <td>0</td>\n",
       "    </tr>\n",
       "  </tbody>\n",
       "</table>\n",
       "</div>"
      ],
      "text/plain": [
       "   log_limit_bal   log_age  sex  marriage  education  sep_status  aug_status  \\\n",
       "0       9.903488  3.178054    2         1          2           2           2   \n",
       "1      11.695247  3.258097    2         2          2           0           2   \n",
       "2      11.407565  3.526361    2         2          2           0           0   \n",
       "3      10.819778  3.610918    2         1          2           0           0   \n",
       "4      10.819778  4.043051    1         1          2           0           0   \n",
       "\n",
       "   jul_status  jun_status  may_status  apr_status  default  \n",
       "0           0           0           0           0        1  \n",
       "1           0           0           0           2        1  \n",
       "2           0           0           0           0        0  \n",
       "3           0           0           0           0        0  \n",
       "4           0           0           0           0        0  "
      ]
     },
     "execution_count": 85,
     "metadata": {},
     "output_type": "execute_result"
    }
   ],
   "source": [
    "df.head()"
   ]
  },
  {
   "cell_type": "markdown",
   "metadata": {},
   "source": [
    "#### Converting the catgorical variables to dummy varibales"
   ]
  },
  {
   "cell_type": "code",
   "execution_count": 86,
   "metadata": {},
   "outputs": [],
   "source": [
    "df = pd.get_dummies(df,prefix=['sex','marriage','education','sep_status','aug_status','jul_status','jun_status','may_status','apr_status'],columns=['sex','marriage','education','sep_status','aug_status','jul_status','jun_status','may_status','apr_status'])"
   ]
  },
  {
   "cell_type": "code",
   "execution_count": 87,
   "metadata": {},
   "outputs": [
    {
     "data": {
      "text/html": [
       "<div>\n",
       "<style scoped>\n",
       "    .dataframe tbody tr th:only-of-type {\n",
       "        vertical-align: middle;\n",
       "    }\n",
       "\n",
       "    .dataframe tbody tr th {\n",
       "        vertical-align: top;\n",
       "    }\n",
       "\n",
       "    .dataframe thead th {\n",
       "        text-align: right;\n",
       "    }\n",
       "</style>\n",
       "<table border=\"1\" class=\"dataframe\">\n",
       "  <thead>\n",
       "    <tr style=\"text-align: right;\">\n",
       "      <th></th>\n",
       "      <th>log_limit_bal</th>\n",
       "      <th>log_age</th>\n",
       "      <th>default</th>\n",
       "      <th>sex_1</th>\n",
       "      <th>sex_2</th>\n",
       "      <th>marriage_1</th>\n",
       "      <th>marriage_2</th>\n",
       "      <th>marriage_3</th>\n",
       "      <th>education_1</th>\n",
       "      <th>education_2</th>\n",
       "      <th>...</th>\n",
       "      <th>may_status_7</th>\n",
       "      <th>may_status_8</th>\n",
       "      <th>apr_status_0</th>\n",
       "      <th>apr_status_2</th>\n",
       "      <th>apr_status_3</th>\n",
       "      <th>apr_status_4</th>\n",
       "      <th>apr_status_5</th>\n",
       "      <th>apr_status_6</th>\n",
       "      <th>apr_status_7</th>\n",
       "      <th>apr_status_8</th>\n",
       "    </tr>\n",
       "  </thead>\n",
       "  <tbody>\n",
       "    <tr>\n",
       "      <th>0</th>\n",
       "      <td>9.903488</td>\n",
       "      <td>3.178054</td>\n",
       "      <td>1</td>\n",
       "      <td>0</td>\n",
       "      <td>1</td>\n",
       "      <td>1</td>\n",
       "      <td>0</td>\n",
       "      <td>0</td>\n",
       "      <td>0</td>\n",
       "      <td>1</td>\n",
       "      <td>...</td>\n",
       "      <td>0</td>\n",
       "      <td>0</td>\n",
       "      <td>1</td>\n",
       "      <td>0</td>\n",
       "      <td>0</td>\n",
       "      <td>0</td>\n",
       "      <td>0</td>\n",
       "      <td>0</td>\n",
       "      <td>0</td>\n",
       "      <td>0</td>\n",
       "    </tr>\n",
       "    <tr>\n",
       "      <th>1</th>\n",
       "      <td>11.695247</td>\n",
       "      <td>3.258097</td>\n",
       "      <td>1</td>\n",
       "      <td>0</td>\n",
       "      <td>1</td>\n",
       "      <td>0</td>\n",
       "      <td>1</td>\n",
       "      <td>0</td>\n",
       "      <td>0</td>\n",
       "      <td>1</td>\n",
       "      <td>...</td>\n",
       "      <td>0</td>\n",
       "      <td>0</td>\n",
       "      <td>0</td>\n",
       "      <td>1</td>\n",
       "      <td>0</td>\n",
       "      <td>0</td>\n",
       "      <td>0</td>\n",
       "      <td>0</td>\n",
       "      <td>0</td>\n",
       "      <td>0</td>\n",
       "    </tr>\n",
       "    <tr>\n",
       "      <th>2</th>\n",
       "      <td>11.407565</td>\n",
       "      <td>3.526361</td>\n",
       "      <td>0</td>\n",
       "      <td>0</td>\n",
       "      <td>1</td>\n",
       "      <td>0</td>\n",
       "      <td>1</td>\n",
       "      <td>0</td>\n",
       "      <td>0</td>\n",
       "      <td>1</td>\n",
       "      <td>...</td>\n",
       "      <td>0</td>\n",
       "      <td>0</td>\n",
       "      <td>1</td>\n",
       "      <td>0</td>\n",
       "      <td>0</td>\n",
       "      <td>0</td>\n",
       "      <td>0</td>\n",
       "      <td>0</td>\n",
       "      <td>0</td>\n",
       "      <td>0</td>\n",
       "    </tr>\n",
       "    <tr>\n",
       "      <th>3</th>\n",
       "      <td>10.819778</td>\n",
       "      <td>3.610918</td>\n",
       "      <td>0</td>\n",
       "      <td>0</td>\n",
       "      <td>1</td>\n",
       "      <td>1</td>\n",
       "      <td>0</td>\n",
       "      <td>0</td>\n",
       "      <td>0</td>\n",
       "      <td>1</td>\n",
       "      <td>...</td>\n",
       "      <td>0</td>\n",
       "      <td>0</td>\n",
       "      <td>1</td>\n",
       "      <td>0</td>\n",
       "      <td>0</td>\n",
       "      <td>0</td>\n",
       "      <td>0</td>\n",
       "      <td>0</td>\n",
       "      <td>0</td>\n",
       "      <td>0</td>\n",
       "    </tr>\n",
       "    <tr>\n",
       "      <th>4</th>\n",
       "      <td>10.819778</td>\n",
       "      <td>4.043051</td>\n",
       "      <td>0</td>\n",
       "      <td>1</td>\n",
       "      <td>0</td>\n",
       "      <td>1</td>\n",
       "      <td>0</td>\n",
       "      <td>0</td>\n",
       "      <td>0</td>\n",
       "      <td>1</td>\n",
       "      <td>...</td>\n",
       "      <td>0</td>\n",
       "      <td>0</td>\n",
       "      <td>1</td>\n",
       "      <td>0</td>\n",
       "      <td>0</td>\n",
       "      <td>0</td>\n",
       "      <td>0</td>\n",
       "      <td>0</td>\n",
       "      <td>0</td>\n",
       "      <td>0</td>\n",
       "    </tr>\n",
       "  </tbody>\n",
       "</table>\n",
       "<p>5 rows × 64 columns</p>\n",
       "</div>"
      ],
      "text/plain": [
       "   log_limit_bal   log_age  default  sex_1  sex_2  marriage_1  marriage_2  \\\n",
       "0       9.903488  3.178054        1      0      1           1           0   \n",
       "1      11.695247  3.258097        1      0      1           0           1   \n",
       "2      11.407565  3.526361        0      0      1           0           1   \n",
       "3      10.819778  3.610918        0      0      1           1           0   \n",
       "4      10.819778  4.043051        0      1      0           1           0   \n",
       "\n",
       "   marriage_3  education_1  education_2  ...  may_status_7  may_status_8  \\\n",
       "0           0            0            1  ...             0             0   \n",
       "1           0            0            1  ...             0             0   \n",
       "2           0            0            1  ...             0             0   \n",
       "3           0            0            1  ...             0             0   \n",
       "4           0            0            1  ...             0             0   \n",
       "\n",
       "   apr_status_0  apr_status_2  apr_status_3  apr_status_4  apr_status_5  \\\n",
       "0             1             0             0             0             0   \n",
       "1             0             1             0             0             0   \n",
       "2             1             0             0             0             0   \n",
       "3             1             0             0             0             0   \n",
       "4             1             0             0             0             0   \n",
       "\n",
       "   apr_status_6  apr_status_7  apr_status_8  \n",
       "0             0             0             0  \n",
       "1             0             0             0  \n",
       "2             0             0             0  \n",
       "3             0             0             0  \n",
       "4             0             0             0  \n",
       "\n",
       "[5 rows x 64 columns]"
      ]
     },
     "execution_count": 87,
     "metadata": {},
     "output_type": "execute_result"
    }
   ],
   "source": [
    "df.head()"
   ]
  },
  {
   "cell_type": "code",
   "execution_count": 88,
   "metadata": {},
   "outputs": [],
   "source": [
    "x = df.drop('default',axis=1)"
   ]
  },
  {
   "cell_type": "code",
   "execution_count": 89,
   "metadata": {},
   "outputs": [
    {
     "data": {
      "text/html": [
       "<div>\n",
       "<style scoped>\n",
       "    .dataframe tbody tr th:only-of-type {\n",
       "        vertical-align: middle;\n",
       "    }\n",
       "\n",
       "    .dataframe tbody tr th {\n",
       "        vertical-align: top;\n",
       "    }\n",
       "\n",
       "    .dataframe thead th {\n",
       "        text-align: right;\n",
       "    }\n",
       "</style>\n",
       "<table border=\"1\" class=\"dataframe\">\n",
       "  <thead>\n",
       "    <tr style=\"text-align: right;\">\n",
       "      <th></th>\n",
       "      <th>default</th>\n",
       "    </tr>\n",
       "  </thead>\n",
       "  <tbody>\n",
       "    <tr>\n",
       "      <th>0</th>\n",
       "      <td>1</td>\n",
       "    </tr>\n",
       "    <tr>\n",
       "      <th>1</th>\n",
       "      <td>1</td>\n",
       "    </tr>\n",
       "    <tr>\n",
       "      <th>2</th>\n",
       "      <td>0</td>\n",
       "    </tr>\n",
       "    <tr>\n",
       "      <th>3</th>\n",
       "      <td>0</td>\n",
       "    </tr>\n",
       "    <tr>\n",
       "      <th>4</th>\n",
       "      <td>0</td>\n",
       "    </tr>\n",
       "  </tbody>\n",
       "</table>\n",
       "</div>"
      ],
      "text/plain": [
       "   default\n",
       "0        1\n",
       "1        1\n",
       "2        0\n",
       "3        0\n",
       "4        0"
      ]
     },
     "execution_count": 89,
     "metadata": {},
     "output_type": "execute_result"
    }
   ],
   "source": [
    "y = df[['default']]\n",
    "y.head()"
   ]
  },
  {
   "cell_type": "markdown",
   "metadata": {},
   "source": [
    "#### Modeling"
   ]
  },
  {
   "cell_type": "markdown",
   "metadata": {},
   "source": [
    "#### Splitting the dataset into training and test data set"
   ]
  },
  {
   "cell_type": "code",
   "execution_count": 90,
   "metadata": {},
   "outputs": [],
   "source": [
    "x_train,x_test,y_train,y_test = train_test_split(x,y,test_size=0.2,random_state=42)"
   ]
  },
  {
   "cell_type": "markdown",
   "metadata": {},
   "source": [
    "#### Using Gridsearchcv to fin the correct hyperameter to our model"
   ]
  },
  {
   "cell_type": "code",
   "execution_count": 91,
   "metadata": {},
   "outputs": [],
   "source": [
    "\n",
    "param_grid = {\n",
    "         'learning_rate':[0.1,0.5,1],\n",
    "          'max_depth':[4],\n",
    "          'gamma':[0.25],\n",
    "          'reg_lambda':[10.0,20,100],\n",
    "          'scale_pos_weight':[3]\n",
    "          }\n",
    "optimal_params = model_selection.GridSearchCV(\n",
    "                 estimator=xgb.XGBClassifier(objective='binary:logistic',\n",
    "                                             seed=42,\n",
    "                                             subsample=0.9,\n",
    "                                             colsample_bytree=0.5),\n",
    "                 param_grid=param_grid,\n",
    "                 scoring='roc_auc',\n",
    "                 verbose=0,\n",
    "                 n_jobs=10,\n",
    "                 cv=3\n",
    "                )"
   ]
  },
  {
   "cell_type": "markdown",
   "metadata": {},
   "source": [
    "#### Lets first try with whole dataset"
   ]
  },
  {
   "cell_type": "code",
   "execution_count": 92,
   "metadata": {},
   "outputs": [
    {
     "name": "stderr",
     "output_type": "stream",
     "text": [
      "D:\\Program Files\\Anaconda3\\lib\\site-packages\\xgboost\\sklearn.py:797: UserWarning: `eval_metric` in `fit` method is deprecated for better compatibility with scikit-learn, use `eval_metric` in constructor or`set_params` instead.\n",
      "  UserWarning,\n",
      "D:\\Program Files\\Anaconda3\\lib\\site-packages\\xgboost\\sklearn.py:797: UserWarning: `early_stopping_rounds` in `fit` method is deprecated for better compatibility with scikit-learn, use `early_stopping_rounds` in constructor or`set_params` instead.\n",
      "  UserWarning,\n"
     ]
    },
    {
     "name": "stdout",
     "output_type": "stream",
     "text": [
      "{'gamma': 0.25, 'learning_rate': 0.1, 'max_depth': 4, 'reg_lambda': 20, 'scale_pos_weight': 3}\n"
     ]
    }
   ],
   "source": [
    "optimal_params.fit(x_train,\n",
    "                   y_train,\n",
    "                   early_stopping_rounds=10,\n",
    "                   eval_metric='auc',\n",
    "                   eval_set=[(x_test,y_test)],\n",
    "                   verbose=False\n",
    "                    )\n",
    "print(optimal_params.best_params_)"
   ]
  },
  {
   "cell_type": "code",
   "execution_count": 93,
   "metadata": {},
   "outputs": [],
   "source": [
    "clf_xbg = xgb.XGBClassifier(seed=42,\n",
    "                            objective='binary:logistic',\n",
    "                            gamma=0.25,\n",
    "                            learn_rate=0.1,\n",
    "                            max_depth=4,\n",
    "                            reg_lambda=20,\n",
    "                            scale_pos_weight=3,\n",
    "                            subsample=0.9,\n",
    "                            colsample_bytree=0.5                            \n",
    "                           )"
   ]
  },
  {
   "cell_type": "code",
   "execution_count": 94,
   "metadata": {},
   "outputs": [
    {
     "name": "stdout",
     "output_type": "stream",
     "text": [
      "[17:00:19] WARNING: C:/Users/administrator/workspace/xgboost-win64_release_1.6.0/src/learner.cc:627: \n",
      "Parameters: { \"learn_rate\" } might not be used.\n",
      "\n",
      "  This could be a false alarm, with some parameters getting used by language bindings but\n",
      "  then being mistakenly passed down to XGBoost core, or some parameter actually being used\n",
      "  but getting flagged wrongly here. Please open an issue if you find any such cases.\n",
      "\n",
      "\n",
      "[0]\tvalidation_0-aucpr:0.43048\n",
      "[1]\tvalidation_0-aucpr:0.50752\n",
      "[2]\tvalidation_0-aucpr:0.51428\n",
      "[3]\tvalidation_0-aucpr:0.52463\n",
      "[4]\tvalidation_0-aucpr:0.52063\n",
      "[5]\tvalidation_0-aucpr:0.52383\n",
      "[6]\tvalidation_0-aucpr:0.52556\n",
      "[7]\tvalidation_0-aucpr:0.52700\n",
      "[8]\tvalidation_0-aucpr:0.52840\n",
      "[9]\tvalidation_0-aucpr:0.53111\n",
      "[10]\tvalidation_0-aucpr:0.53393\n",
      "[11]\tvalidation_0-aucpr:0.53495\n",
      "[12]\tvalidation_0-aucpr:0.53417\n",
      "[13]\tvalidation_0-aucpr:0.53439\n",
      "[14]\tvalidation_0-aucpr:0.53329\n",
      "[15]\tvalidation_0-aucpr:0.53297\n",
      "[16]\tvalidation_0-aucpr:0.53302\n",
      "[17]\tvalidation_0-aucpr:0.53363\n",
      "[18]\tvalidation_0-aucpr:0.53291\n",
      "[19]\tvalidation_0-aucpr:0.53133\n",
      "[20]\tvalidation_0-aucpr:0.53287\n",
      "[21]\tvalidation_0-aucpr:0.53206\n"
     ]
    },
    {
     "data": {
      "text/plain": [
       "XGBClassifier(base_score=0.5, booster='gbtree', callbacks=None,\n",
       "              colsample_bylevel=1, colsample_bynode=1, colsample_bytree=0.5,\n",
       "              early_stopping_rounds=None, enable_categorical=False,\n",
       "              eval_metric=None, gamma=0.25, gpu_id=-1, grow_policy='depthwise',\n",
       "              importance_type=None, interaction_constraints='', learn_rate=0.1,\n",
       "              learning_rate=0.300000012, max_bin=256, max_cat_to_onehot=4,\n",
       "              max_delta_step=0, max_depth=4, max_leaves=0, min_child_weight=1,\n",
       "              missing=nan, monotone_constraints='()', n_estimators=100,\n",
       "              n_jobs=0, num_parallel_tree=1, objective='binary:logistic',\n",
       "              predictor='auto', random_state=42, ...)"
      ]
     },
     "execution_count": 94,
     "metadata": {},
     "output_type": "execute_result"
    }
   ],
   "source": [
    "clf_xbg.fit(x_train,\n",
    "            y_train,\n",
    "            verbose=True,\n",
    "            early_stopping_rounds=10,\n",
    "            eval_metric='aucpr',\n",
    "            eval_set=[(x_test,y_test)])"
   ]
  },
  {
   "cell_type": "code",
   "execution_count": 95,
   "metadata": {},
   "outputs": [],
   "source": [
    "preds = clf_xbg.predict(x_test)"
   ]
  },
  {
   "cell_type": "markdown",
   "metadata": {},
   "source": [
    "#### With the ensemble models,we can find the feature importance.Lets plot them and see"
   ]
  },
  {
   "cell_type": "code",
   "execution_count": 96,
   "metadata": {
    "scrolled": true
   },
   "outputs": [
    {
     "data": {
      "image/png": "[encoded data removed]",
      "text/plain": [
       "<Figure size 1152x288 with 1 Axes>"
      ]
     },
     "metadata": {
      "needs_background": "light"
     },
     "output_type": "display_data"
    }
   ],
   "source": [
    "tmp = pd.DataFrame({'Feature':x.columns,'Feature importance':clf_xbg.feature_importances_})\n",
    "tmp = tmp.sort_values(by='Feature importance',ascending=False)\n",
    "plt.figure(figsize=(16,4))\n",
    "plt.title('Feature importance',fontsize=14)\n",
    "s= sns.barplot(x='Feature',y='Feature importance',data=tmp)\n",
    "s.set_xticklabels(s.get_xticklabels(),rotation=90)\n",
    "plt.show()"
   ]
  },
  {
   "cell_type": "code",
   "execution_count": 97,
   "metadata": {},
   "outputs": [],
   "source": [
    "from sklearn import metrics"
   ]
  },
  {
   "cell_type": "code",
   "execution_count": 98,
   "metadata": {},
   "outputs": [
    {
     "name": "stdout",
     "output_type": "stream",
     "text": [
      "              precision    recall  f1-score   support\n",
      "\n",
      "           0       0.87      0.86      0.86      4672\n",
      "           1       0.53      0.54      0.53      1328\n",
      "\n",
      "    accuracy                           0.79      6000\n",
      "   macro avg       0.70      0.70      0.70      6000\n",
      "weighted avg       0.79      0.79      0.79      6000\n",
      "\n"
     ]
    }
   ],
   "source": [
    "print(metrics.classification_report(y_test,preds))"
   ]
  },
  {
   "cell_type": "code",
   "execution_count": 99,
   "metadata": {},
   "outputs": [
    {
     "data": {
      "text/plain": [
       "array([[4022,  650],\n",
       "       [ 606,  722]], dtype=int64)"
      ]
     },
     "execution_count": 99,
     "metadata": {},
     "output_type": "execute_result"
    }
   ],
   "source": [
    "metrics.confusion_matrix(y_test,preds)"
   ]
  },
  {
   "cell_type": "code",
   "execution_count": 100,
   "metadata": {},
   "outputs": [
    {
     "data": {
      "text/plain": [
       "0.5262390670553936"
      ]
     },
     "execution_count": 100,
     "metadata": {},
     "output_type": "execute_result"
    }
   ],
   "source": [
    "metrics.recall_score(preds,y_test)"
   ]
  },
  {
   "cell_type": "code",
   "execution_count": 101,
   "metadata": {},
   "outputs": [
    {
     "data": {
      "text/plain": [
       "0.6976484877195723"
      ]
     },
     "execution_count": 101,
     "metadata": {},
     "output_type": "execute_result"
    }
   ],
   "source": [
    "metrics.roc_auc_score(preds,y_test)"
   ]
  },
  {
   "cell_type": "markdown",
   "metadata": {},
   "source": [
    "### This model has performed well compared to all of the Randomforest model that we implemented.Lets try to undersample and oversample the data and compare the models"
   ]
  },
  {
   "cell_type": "code",
   "execution_count": null,
   "metadata": {},
   "outputs": [],
   "source": []
  },
  {
   "cell_type": "markdown",
   "metadata": {},
   "source": [
    "#### Upsampling"
   ]
  },
  {
   "cell_type": "code",
   "execution_count": 102,
   "metadata": {},
   "outputs": [],
   "source": [
    "x_train_rg,x_test_rg,y_train_rg,y_test_rg = train_test_split(x,y,test_size=0.2,random_state=42)\n"
   ]
  },
  {
   "cell_type": "code",
   "execution_count": 103,
   "metadata": {},
   "outputs": [],
   "source": [
    "x_train_u,y_train_u = resample(x_train_rg[y_train_rg.default==1],y_train_rg[y_train_rg.default==1],replace=True,\n",
    "                               n_samples=x_train_rg[y_train_rg.default==0].shape[0],random_state=1\n",
    "                                )"
   ]
  },
  {
   "cell_type": "code",
   "execution_count": 104,
   "metadata": {},
   "outputs": [],
   "source": [
    "x_train_u = pd.concat((pd.DataFrame(x_train_rg[y_train_rg.default==0]),x_train_u))\n",
    "y_train_u = pd.concat((pd.DataFrame(y_train_rg[y_train_rg.default==0]),y_train_u))"
   ]
  },
  {
   "cell_type": "code",
   "execution_count": 105,
   "metadata": {},
   "outputs": [],
   "source": [
    "param_grid = {\n",
    "         'learning_rate':[0.1,0.5,1],\n",
    "          'max_depth':[4],\n",
    "          'gamma':[0.25],\n",
    "          'reg_lambda':[10.0,20,100],\n",
    "          'scale_pos_weight':[3]\n",
    "          }\n",
    "up_optimal_params = model_selection.GridSearchCV(\n",
    "                 estimator=xgb.XGBClassifier(objective='binary:logistic',\n",
    "                                             seed=42,\n",
    "                                             subsample=0.9,\n",
    "                                             colsample_bytree=0.5),\n",
    "                 param_grid=param_grid,\n",
    "                 scoring='roc_auc',\n",
    "                 verbose=0,\n",
    "                 n_jobs=10,\n",
    "                 cv=3\n",
    "                )"
   ]
  },
  {
   "cell_type": "code",
   "execution_count": 106,
   "metadata": {},
   "outputs": [
    {
     "name": "stderr",
     "output_type": "stream",
     "text": [
      "D:\\Program Files\\Anaconda3\\lib\\site-packages\\xgboost\\sklearn.py:797: UserWarning: `eval_metric` in `fit` method is deprecated for better compatibility with scikit-learn, use `eval_metric` in constructor or`set_params` instead.\n",
      "  UserWarning,\n",
      "D:\\Program Files\\Anaconda3\\lib\\site-packages\\xgboost\\sklearn.py:797: UserWarning: `early_stopping_rounds` in `fit` method is deprecated for better compatibility with scikit-learn, use `early_stopping_rounds` in constructor or`set_params` instead.\n",
      "  UserWarning,\n"
     ]
    },
    {
     "name": "stdout",
     "output_type": "stream",
     "text": [
      "{'gamma': 0.25, 'learning_rate': 0.5, 'max_depth': 4, 'reg_lambda': 10.0, 'scale_pos_weight': 3}\n"
     ]
    }
   ],
   "source": [
    "up_optimal_params.fit(x_train_u,\n",
    "                   y_train_u,\n",
    "                   early_stopping_rounds=10,\n",
    "                   eval_metric='auc',\n",
    "                   eval_set=[(x_test,y_test)],\n",
    "                   verbose=False\n",
    "                    )\n",
    "print(up_optimal_params.best_params_)"
   ]
  },
  {
   "cell_type": "code",
   "execution_count": 107,
   "metadata": {},
   "outputs": [],
   "source": [
    "up_clf_xbg = xgb.XGBClassifier(seed=42,\n",
    "                            objective='binary:logistic',\n",
    "                            gamma=0.25,\n",
    "                            learn_rate=0.5,\n",
    "                            max_depth=4,\n",
    "                            reg_lambda=10,\n",
    "                            scale_pos_weight=3,\n",
    "                            subsample=0.9,\n",
    "                            colsample_bytree=0.5                            \n",
    "                           )"
   ]
  },
  {
   "cell_type": "code",
   "execution_count": 108,
   "metadata": {},
   "outputs": [
    {
     "name": "stdout",
     "output_type": "stream",
     "text": [
      "[17:00:58] WARNING: C:/Users/administrator/workspace/xgboost-win64_release_1.6.0/src/learner.cc:627: \n",
      "Parameters: { \"learn_rate\" } might not be used.\n",
      "\n",
      "  This could be a false alarm, with some parameters getting used by language bindings but\n",
      "  then being mistakenly passed down to XGBoost core, or some parameter actually being used\n",
      "  but getting flagged wrongly here. Please open an issue if you find any such cases.\n",
      "\n",
      "\n",
      "[0]\tvalidation_0-aucpr:0.42901\n",
      "[1]\tvalidation_0-aucpr:0.49302\n",
      "[2]\tvalidation_0-aucpr:0.50320\n",
      "[3]\tvalidation_0-aucpr:0.50786\n",
      "[4]\tvalidation_0-aucpr:0.50687\n",
      "[5]\tvalidation_0-aucpr:0.51440\n",
      "[6]\tvalidation_0-aucpr:0.52223\n",
      "[7]\tvalidation_0-aucpr:0.52213\n",
      "[8]\tvalidation_0-aucpr:0.52333\n",
      "[9]\tvalidation_0-aucpr:0.52131\n",
      "[10]\tvalidation_0-aucpr:0.52178\n",
      "[11]\tvalidation_0-aucpr:0.52540\n",
      "[12]\tvalidation_0-aucpr:0.52824\n",
      "[13]\tvalidation_0-aucpr:0.52976\n",
      "[14]\tvalidation_0-aucpr:0.53387\n",
      "[15]\tvalidation_0-aucpr:0.53264\n",
      "[16]\tvalidation_0-aucpr:0.53339\n",
      "[17]\tvalidation_0-aucpr:0.53598\n",
      "[18]\tvalidation_0-aucpr:0.53439\n",
      "[19]\tvalidation_0-aucpr:0.53268\n",
      "[20]\tvalidation_0-aucpr:0.53337\n",
      "[21]\tvalidation_0-aucpr:0.53369\n",
      "[22]\tvalidation_0-aucpr:0.53479\n",
      "[23]\tvalidation_0-aucpr:0.53471\n",
      "[24]\tvalidation_0-aucpr:0.53426\n",
      "[25]\tvalidation_0-aucpr:0.53422\n",
      "[26]\tvalidation_0-aucpr:0.53523\n"
     ]
    },
    {
     "data": {
      "text/plain": [
       "XGBClassifier(base_score=0.5, booster='gbtree', callbacks=None,\n",
       "              colsample_bylevel=1, colsample_bynode=1, colsample_bytree=0.5,\n",
       "              early_stopping_rounds=None, enable_categorical=False,\n",
       "              eval_metric=None, gamma=0.25, gpu_id=-1, grow_policy='depthwise',\n",
       "              importance_type=None, interaction_constraints='', learn_rate=0.5,\n",
       "              learning_rate=0.300000012, max_bin=256, max_cat_to_onehot=4,\n",
       "              max_delta_step=0, max_depth=4, max_leaves=0, min_child_weight=1,\n",
       "              missing=nan, monotone_constraints='()', n_estimators=100,\n",
       "              n_jobs=0, num_parallel_tree=1, objective='binary:logistic',\n",
       "              predictor='auto', random_state=42, ...)"
      ]
     },
     "execution_count": 108,
     "metadata": {},
     "output_type": "execute_result"
    }
   ],
   "source": [
    "up_clf_xbg.fit(x_train_u,\n",
    "            y_train_u,\n",
    "            verbose=True,\n",
    "            early_stopping_rounds=10,\n",
    "            eval_metric='aucpr',\n",
    "            eval_set=[(x_test,y_test)])"
   ]
  },
  {
   "cell_type": "code",
   "execution_count": 109,
   "metadata": {},
   "outputs": [],
   "source": [
    "up_preds = up_clf_xbg.predict(x_test)"
   ]
  },
  {
   "cell_type": "code",
   "execution_count": 110,
   "metadata": {},
   "outputs": [
    {
     "data": {
      "image/png": "[encoded data removed]",
      "text/plain": [
       "<Figure size 1152x288 with 1 Axes>"
      ]
     },
     "metadata": {
      "needs_background": "light"
     },
     "output_type": "display_data"
    }
   ],
   "source": [
    "tmp = pd.DataFrame({'Feature':x.columns,'Feature importance':up_clf_xbg.feature_importances_})\n",
    "tmp = tmp.sort_values(by='Feature importance',ascending=False)\n",
    "plt.figure(figsize=(16,4))\n",
    "plt.title('Feature importance',fontsize=14)\n",
    "s= sns.barplot(x='Feature',y='Feature importance',data=tmp)\n",
    "s.set_xticklabels(s.get_xticklabels(),rotation=90)\n",
    "plt.show()"
   ]
  },
  {
   "cell_type": "code",
   "execution_count": 111,
   "metadata": {},
   "outputs": [
    {
     "data": {
      "text/plain": [
       "0.23729446935724963"
      ]
     },
     "execution_count": 111,
     "metadata": {},
     "output_type": "execute_result"
    }
   ],
   "source": [
    "metrics.recall_score(up_preds,y_test)"
   ]
  },
  {
   "cell_type": "code",
   "execution_count": 112,
   "metadata": {},
   "outputs": [
    {
     "data": {
      "text/plain": [
       "array([[ 590,   58],\n",
       "       [4082, 1270]], dtype=int64)"
      ]
     },
     "execution_count": 112,
     "metadata": {},
     "output_type": "execute_result"
    }
   ],
   "source": [
    "metrics.confusion_matrix(up_preds,y_test)"
   ]
  },
  {
   "cell_type": "code",
   "execution_count": 113,
   "metadata": {},
   "outputs": [
    {
     "name": "stdout",
     "output_type": "stream",
     "text": [
      "              precision    recall  f1-score   support\n",
      "\n",
      "           0       0.13      0.91      0.22       648\n",
      "           1       0.96      0.24      0.38      5352\n",
      "\n",
      "    accuracy                           0.31      6000\n",
      "   macro avg       0.54      0.57      0.30      6000\n",
      "weighted avg       0.87      0.31      0.36      6000\n",
      "\n"
     ]
    }
   ],
   "source": [
    "print(metrics.classification_report(up_preds,y_test))"
   ]
  },
  {
   "cell_type": "code",
   "execution_count": 114,
   "metadata": {},
   "outputs": [
    {
     "data": {
      "text/plain": [
       "0.5738941482588718"
      ]
     },
     "execution_count": 114,
     "metadata": {},
     "output_type": "execute_result"
    }
   ],
   "source": [
    "metrics.roc_auc_score(up_preds,y_test)"
   ]
  },
  {
   "cell_type": "markdown",
   "metadata": {},
   "source": [
    "## Downsampled"
   ]
  },
  {
   "cell_type": "code",
   "execution_count": 115,
   "metadata": {},
   "outputs": [],
   "source": [
    "x_train_d,y_train_d = resample(x_train_rg[y_train_rg.default==0],y_train_rg[y_train_rg.default==0],replace=True,\n",
    "                               n_samples=x_train_rg[y_train_rg.default==1].shape[0],random_state=1\n",
    "                                                    )"
   ]
  },
  {
   "cell_type": "code",
   "execution_count": 116,
   "metadata": {},
   "outputs": [],
   "source": [
    "x_train_d = pd.concat((pd.DataFrame(x_train_rg[y_train_rg.default==1]),x_train_u))\n",
    "y_train_d = pd.concat((pd.DataFrame(y_train_rg[y_train_rg.default==1]),y_train_u))"
   ]
  },
  {
   "cell_type": "code",
   "execution_count": 117,
   "metadata": {},
   "outputs": [
    {
     "data": {
      "text/plain": [
       "(42688, 63)"
      ]
     },
     "execution_count": 117,
     "metadata": {},
     "output_type": "execute_result"
    }
   ],
   "source": [
    "x_train_d.shape"
   ]
  },
  {
   "cell_type": "code",
   "execution_count": 118,
   "metadata": {},
   "outputs": [],
   "source": [
    "param_grid = {\n",
    "         'learning_rate':[0.1,0.5,1],\n",
    "          'max_depth':[4],\n",
    "          'gamma':[0.25],\n",
    "          'reg_lambda':[10.0,20,100],\n",
    "          'scale_pos_weight':[3]\n",
    "          }\n",
    "down_optimal_params = model_selection.GridSearchCV(\n",
    "                 estimator=xgb.XGBClassifier(objective='binary:logistic',\n",
    "                                             seed=42,\n",
    "                                             subsample=0.9,\n",
    "                                             colsample_bytree=0.5),\n",
    "                 param_grid=param_grid,\n",
    "                 scoring='roc_auc',\n",
    "                 verbose=0,\n",
    "                 n_jobs=10,\n",
    "                 cv=3\n",
    "                )"
   ]
  },
  {
   "cell_type": "code",
   "execution_count": 119,
   "metadata": {},
   "outputs": [
    {
     "name": "stderr",
     "output_type": "stream",
     "text": [
      "D:\\Program Files\\Anaconda3\\lib\\site-packages\\xgboost\\sklearn.py:797: UserWarning: `eval_metric` in `fit` method is deprecated for better compatibility with scikit-learn, use `eval_metric` in constructor or`set_params` instead.\n",
      "  UserWarning,\n",
      "D:\\Program Files\\Anaconda3\\lib\\site-packages\\xgboost\\sklearn.py:797: UserWarning: `early_stopping_rounds` in `fit` method is deprecated for better compatibility with scikit-learn, use `early_stopping_rounds` in constructor or`set_params` instead.\n",
      "  UserWarning,\n"
     ]
    },
    {
     "name": "stdout",
     "output_type": "stream",
     "text": [
      "{'gamma': 0.25, 'learning_rate': 1, 'max_depth': 4, 'reg_lambda': 100, 'scale_pos_weight': 3}\n"
     ]
    }
   ],
   "source": [
    "down_optimal_params.fit(x_train_d,\n",
    "                   y_train_d,\n",
    "                   early_stopping_rounds=10,\n",
    "                   eval_metric='auc',\n",
    "                   eval_set=[(x_test,y_test)],\n",
    "                   verbose=False\n",
    "                    )\n",
    "print(down_optimal_params.best_params_)"
   ]
  },
  {
   "cell_type": "code",
   "execution_count": 120,
   "metadata": {},
   "outputs": [],
   "source": [
    "down_clf_xbg = xgb.XGBClassifier(seed=42,\n",
    "                            objective='binary:logistic',\n",
    "                            gamma=0.25,\n",
    "                            learn_rate=1,\n",
    "                            max_depth=4,\n",
    "                            reg_lambda=100,\n",
    "                            scale_pos_weight=3,\n",
    "                            subsample=0.9,\n",
    "                            colsample_bytree=0.5                            \n",
    "                           )"
   ]
  },
  {
   "cell_type": "code",
   "execution_count": 121,
   "metadata": {},
   "outputs": [
    {
     "name": "stdout",
     "output_type": "stream",
     "text": [
      "[17:01:22] WARNING: C:/Users/administrator/workspace/xgboost-win64_release_1.6.0/src/learner.cc:627: \n",
      "Parameters: { \"learn_rate\" } might not be used.\n",
      "\n",
      "  This could be a false alarm, with some parameters getting used by language bindings but\n",
      "  then being mistakenly passed down to XGBoost core, or some parameter actually being used\n",
      "  but getting flagged wrongly here. Please open an issue if you find any such cases.\n",
      "\n",
      "\n",
      "[0]\tvalidation_0-aucpr:0.40851\n",
      "[1]\tvalidation_0-aucpr:0.45287\n",
      "[2]\tvalidation_0-aucpr:0.50188\n",
      "[3]\tvalidation_0-aucpr:0.49897\n",
      "[4]\tvalidation_0-aucpr:0.50922\n",
      "[5]\tvalidation_0-aucpr:0.51159\n",
      "[6]\tvalidation_0-aucpr:0.51642\n",
      "[7]\tvalidation_0-aucpr:0.52170\n",
      "[8]\tvalidation_0-aucpr:0.52399\n",
      "[9]\tvalidation_0-aucpr:0.52431\n",
      "[10]\tvalidation_0-aucpr:0.52412\n",
      "[11]\tvalidation_0-aucpr:0.53039\n",
      "[12]\tvalidation_0-aucpr:0.53081\n",
      "[13]\tvalidation_0-aucpr:0.53553\n",
      "[14]\tvalidation_0-aucpr:0.53522\n",
      "[15]\tvalidation_0-aucpr:0.53403\n",
      "[16]\tvalidation_0-aucpr:0.53314\n",
      "[17]\tvalidation_0-aucpr:0.53317\n",
      "[18]\tvalidation_0-aucpr:0.53253\n",
      "[19]\tvalidation_0-aucpr:0.53535\n",
      "[20]\tvalidation_0-aucpr:0.53522\n",
      "[21]\tvalidation_0-aucpr:0.53544\n",
      "[22]\tvalidation_0-aucpr:0.53551\n",
      "[23]\tvalidation_0-aucpr:0.53575\n",
      "[24]\tvalidation_0-aucpr:0.53574\n",
      "[25]\tvalidation_0-aucpr:0.53718\n",
      "[26]\tvalidation_0-aucpr:0.53588\n",
      "[27]\tvalidation_0-aucpr:0.53610\n",
      "[28]\tvalidation_0-aucpr:0.53652\n",
      "[29]\tvalidation_0-aucpr:0.53651\n",
      "[30]\tvalidation_0-aucpr:0.53670\n",
      "[31]\tvalidation_0-aucpr:0.53740\n",
      "[32]\tvalidation_0-aucpr:0.53771\n",
      "[33]\tvalidation_0-aucpr:0.53822\n",
      "[34]\tvalidation_0-aucpr:0.53751\n",
      "[35]\tvalidation_0-aucpr:0.53720\n",
      "[36]\tvalidation_0-aucpr:0.53720\n",
      "[37]\tvalidation_0-aucpr:0.53670\n",
      "[38]\tvalidation_0-aucpr:0.53685\n",
      "[39]\tvalidation_0-aucpr:0.53684\n",
      "[40]\tvalidation_0-aucpr:0.53708\n",
      "[41]\tvalidation_0-aucpr:0.53742\n",
      "[42]\tvalidation_0-aucpr:0.53740\n"
     ]
    },
    {
     "data": {
      "text/plain": [
       "XGBClassifier(base_score=0.5, booster='gbtree', callbacks=None,\n",
       "              colsample_bylevel=1, colsample_bynode=1, colsample_bytree=0.5,\n",
       "              early_stopping_rounds=None, enable_categorical=False,\n",
       "              eval_metric=None, gamma=0.25, gpu_id=-1, grow_policy='depthwise',\n",
       "              importance_type=None, interaction_constraints='', learn_rate=1,\n",
       "              learning_rate=0.300000012, max_bin=256, max_cat_to_onehot=4,\n",
       "              max_delta_step=0, max_depth=4, max_leaves=0, min_child_weight=1,\n",
       "              missing=nan, monotone_constraints='()', n_estimators=100,\n",
       "              n_jobs=0, num_parallel_tree=1, objective='binary:logistic',\n",
       "              predictor='auto', random_state=42, ...)"
      ]
     },
     "execution_count": 121,
     "metadata": {},
     "output_type": "execute_result"
    }
   ],
   "source": [
    "down_clf_xbg.fit(x_train_d,\n",
    "            y_train_d,\n",
    "            verbose=True,\n",
    "            early_stopping_rounds=10,\n",
    "            eval_metric='aucpr',\n",
    "            eval_set=[(x_test,y_test)])"
   ]
  },
  {
   "cell_type": "code",
   "execution_count": 122,
   "metadata": {},
   "outputs": [],
   "source": [
    "down_preds = down_clf_xbg.predict(x_test)"
   ]
  },
  {
   "cell_type": "code",
   "execution_count": 123,
   "metadata": {},
   "outputs": [
    {
     "data": {
      "text/plain": [
       "array([[ 177,   17],\n",
       "       [4495, 1311]], dtype=int64)"
      ]
     },
     "execution_count": 123,
     "metadata": {},
     "output_type": "execute_result"
    }
   ],
   "source": [
    "metrics.confusion_matrix(down_preds,y_test)"
   ]
  },
  {
   "cell_type": "code",
   "execution_count": 124,
   "metadata": {},
   "outputs": [
    {
     "data": {
      "text/plain": [
       "0.2258008956252153"
      ]
     },
     "execution_count": 124,
     "metadata": {},
     "output_type": "execute_result"
    }
   ],
   "source": [
    "metrics.recall_score(down_preds,y_test)"
   ]
  },
  {
   "cell_type": "code",
   "execution_count": 125,
   "metadata": {},
   "outputs": [
    {
     "data": {
      "text/plain": [
       "0.569086014822917"
      ]
     },
     "execution_count": 125,
     "metadata": {},
     "output_type": "execute_result"
    }
   ],
   "source": [
    "metrics.roc_auc_score(down_preds,y_test)"
   ]
  },
  {
   "cell_type": "markdown",
   "metadata": {},
   "source": [
    "####  This model has performed very poorly.Lets implement the whole data without over and undersampling as it is our best performing model"
   ]
  }
 ],
 "metadata": {
  "kernelspec": {
   "display_name": "Python 3",
   "language": "python",
   "name": "python3"
  },
  "language_info": {
   "codemirror_mode": {
    "name": "ipython",
    "version": 3
   },
   "file_extension": ".py",
   "mimetype": "text/x-python",
   "name": "python",
   "nbconvert_exporter": "python",
   "pygments_lexer": "ipython3",
   "version": "3.7.3"
  }
 },
 "nbformat": 4,
 "nbformat_minor": 2
}
